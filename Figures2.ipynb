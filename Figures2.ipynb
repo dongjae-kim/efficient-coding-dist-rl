{
 "cells": [
  {
   "cell_type": "markdown",
   "id": "e72d6d7d",
   "metadata": {
    "toc": true
   },
   "source": [
    "<h1>Table of Contents<span class=\"tocSkip\"></span></h1>\n",
    "<div class=\"toc\"><ul class=\"toc-item\"><li><span><a href=\"#Model-fitting\" data-toc-modified-id=\"Model-fitting-1\"><span class=\"toc-item-num\">1&nbsp;&nbsp;</span>Model fitting</a></span></li><li><span><a href=\"#Prior-distribution\" data-toc-modified-id=\"Prior-distribution-2\"><span class=\"toc-item-num\">2&nbsp;&nbsp;</span>Prior distribution</a></span></li><li><span><a href=\"#Logistic-fits\" data-toc-modified-id=\"Logistic-fits-3\"><span class=\"toc-item-num\">3&nbsp;&nbsp;</span>Logistic fits</a></span></li><li><span><a href=\"#Threshold---Gain-plot\" data-toc-modified-id=\"Threshold---Gain-plot-4\"><span class=\"toc-item-num\">4&nbsp;&nbsp;</span>Threshold - Gain plot</a></span></li><li><span><a href=\"#Threshold---Asymmetry-plot\" data-toc-modified-id=\"Threshold---Asymmetry-plot-5\"><span class=\"toc-item-num\">5&nbsp;&nbsp;</span>Threshold - Asymmetry plot</a></span></li><li><span><a href=\"#slope-vs-density\" data-toc-modified-id=\"slope-vs-density-6\"><span class=\"toc-item-num\">6&nbsp;&nbsp;</span>slope vs density</a></span></li><li><span><a href=\"#plot-half-ot-the-gain-and-r-star\" data-toc-modified-id=\"plot-half-ot-the-gain-and-r-star-7\"><span class=\"toc-item-num\">7&nbsp;&nbsp;</span>plot half ot the gain and r-star</a></span></li><li><span><a href=\"#thresholds-&amp;-density\" data-toc-modified-id=\"thresholds-&amp;-density-8\"><span class=\"toc-item-num\">8&nbsp;&nbsp;</span>thresholds &amp; density</a></span></li></ul></div>"
   ]
  },
  {
   "cell_type": "markdown",
   "id": "28a2983d",
   "metadata": {},
   "source": [
    "# Model fitting\n",
    "\n",
    "```\n",
    "$ python fitting_models.py\n",
    "```\n",
    "\n"
   ]
  },
  {
   "cell_type": "markdown",
   "id": "04010ea6",
   "metadata": {},
   "source": [
    "# Prior distribution"
   ]
  },
  {
   "cell_type": "code",
   "execution_count": 1,
   "id": "71bd9acf",
   "metadata": {},
   "outputs": [],
   "source": [
    "import pickle as pkl\n",
    "import numpy as np\n",
    "import scipy.io as sio\n",
    "import scipy\n",
    "from scipy import stats\n",
    "from scipy.optimize import curve_fit, minimize\n",
    "import matplotlib.pyplot as plt\n",
    "from fitting_models import value_efficient_coding_moment, fitting_model_model\n",
    "from matplotlib.path import Path\n",
    "from matplotlib.patches import PathPatch\n",
    "\n",
    "savedir = './res_fit_alpha_fit/'"
   ]
  },
  {
   "cell_type": "code",
   "execution_count": 2,
   "id": "c38c0800",
   "metadata": {},
   "outputs": [],
   "source": [
    "# curve\n",
    "def sigmoid_func(x, a, b, c):\n",
    "    return b / (1 + np.exp(-(x - c) * a))\n",
    "\n",
    "# get first derivative of the sigmoid function\n",
    "def first_derivative_sigmoid_func(x, a, b, c):\n",
    "    return a*b*np.exp(-a*(x-c))/ (1 + np.exp(-a*(x-c)))**2"
   ]
  },
  {
   "cell_type": "code",
   "execution_count": null,
   "id": "3468b423",
   "metadata": {
    "ExecuteTime": {
     "end_time": "2023-04-22T19:26:56.391432Z",
     "start_time": "2023-04-22T19:26:55.816486Z"
    }
   },
   "outputs": [],
   "source": [
    "# load fitted alpha\n",
    "x_opt = []\n",
    "LSE = 99999\n",
    "model_name = ''\n",
    "LSE_s = []\n",
    "x_opt_s = []\n",
    "model_name_s = []\n",
    "\n",
    "for ii in range(1000):\n",
    "    try:\n",
    "        with open(savedir + 'res_fit_apprx_freealpha_freebeta_lognormal{0}.pkl'.format(ii), 'rb') as f:\n",
    "            data_1 = pkl.load(f)\n",
    "\n",
    "        LSE_s.append(data_1['res']['fun'])\n",
    "        x_opt_s.append(data_1['res']['x'])\n",
    "        if LSE > data_1['res']['fun']:\n",
    "            LSE = data_1['res']['fun']\n",
    "            x_opt = data_1['res']['x']\n",
    "    except:\n",
    "        ''\n",
    "\n",
    "idxxx = np.argsort(LSE_s)\n",
    "xss = np.array(x_opt_s)\n",
    "id = np.argmin(LSE_s)\n",
    "\n",
    "print(LSE_s[id]) # loss\n",
    "print(xss[id]) # parameter fitted"
   ]
  },
  {
   "cell_type": "code",
   "execution_count": null,
   "id": "3276e53e",
   "metadata": {
    "ExecuteTime": {
     "end_time": "2023-04-22T19:26:56.771019Z",
     "start_time": "2023-04-22T19:26:56.696654Z"
    }
   },
   "outputs": [],
   "source": [
    "# load sigmoid fit results\n",
    "# read './measured_neurons/CurveFit.ipynb' for more info\n",
    "\n",
    "N_neurons = 39\n",
    "R_t = 245.41\n",
    "slope_scale = 5.07\n",
    "\n",
    "ec = value_efficient_coding_moment(\n",
    "    N_neurons=N_neurons, R_t=R_t, X_OPT_ALPH=xss[id][0], slope_scale=slope_scale)\n",
    "\n",
    "ec_simple = value_efficient_coding_moment(\n",
    "    N_neurons=N_neurons, R_t=R_t, X_OPT_ALPH=xss[id][0], slope_scale=slope_scale, simpler=True)\n",
    "ec_simple.replace_with_pseudo()\n",
    "\n",
    "dir_measured_neurons = 'measured_neurons/'\n",
    "\n",
    "NDAT = sio.loadmat(dir_measured_neurons + 'data_max.mat')['dat']\n",
    "data = sio.loadmat(dir_measured_neurons + 'curve_fit_parameters.mat')\n",
    "# \"curve_fit_parameters.mat\" is the file that contains logistic fits of neurons\n",
    "# read './measured_neurons/CurveFit.ipynb' for more info\n",
    "\n",
    "indices = np.setdiff1d(np.linspace(0, 39, 40).astype(np.int16), 19) # except one neuron\n",
    "param_set = [data['ps_lcb'][indices], data['ps'][indices], data['ps_ucb'][indices]]\n",
    "midpoints = data['ps'][indices,2]"
   ]
  },
  {
   "cell_type": "code",
   "execution_count": null,
   "id": "955cf04e",
   "metadata": {
    "ExecuteTime": {
     "end_time": "2023-04-22T19:26:56.696426Z",
     "start_time": "2023-04-22T19:26:56.545551Z"
    }
   },
   "outputs": [],
   "source": [
    "%matplotlib inline \n",
    "def log_kde(x, y, sigma, x_sample):\n",
    "    \"\"\" calculates a log-normal based kernel density estimate\n",
    "    based on samples at x with weights/probabilities y evaluated at x_sample\"\"\"\n",
    "    # mean = exp(mu + sigma^2/2) != mtrue\n",
    "    # -> mu = log(mtrue) - sigma^2/2\n",
    "    mu = np.log(x) - (sigma ** 2 / 2)\n",
    "    y_sample = np.zeros_like(x_sample)\n",
    "    for mu_i, y_i in zip(mu, y):\n",
    "        y_sample += (np.exp(-((np.log(x_sample) - mu_i) ** 2) / 2 / (sigma ** 2))\n",
    "                     / np.sqrt(2 * np.pi) / sigma / x_sample) * y_i\n",
    "    return y_sample\n",
    "\n",
    "ys = log_kde(midpoints, np.ones(39)/39, .6, ec.x)\n",
    "ys *= np.sum(ec.p_prior) / np.sum(ys)\n",
    "\n",
    "fig,ax = plt.subplots(1,1)\n",
    "\n",
    "# Reward distribution\n",
    "plt.plot(ec.x, ec.p_prior, color='#999999')\n",
    "# Efficient code density\n",
    "plt.plot(ec.x, ec.d_x, color='k')\n",
    "# kde estimate of real neurons\n",
    "plt.plot(ec.x, ys,color='#9ebcda')\n",
    "\n",
    "# individual neurons\n",
    "ax.vlines(midpoints, 0, .012*np.ones(midpoints.shape),colors='#9ebcda')\n",
    "\n",
    "# Decoration\n",
    "ax.spines['right'].set_visible(False)\n",
    "ax.spines['top'].set_visible(False)\n",
    "ax.set_xlim(0, 25)\n",
    "ax.set_ylim(0, .22)\n",
    "ax.set_xticks([0,10,20])\n",
    "fig.set_figwidth(6.2)\n",
    "fig.set_figheight(2)\n",
    "plt.legend(['reward density', 'efficient code', 'measured neurons'])\n",
    "\n",
    "plt.savefig('./figures/midpoints.png',bbox_inches = 'tight')\n",
    "plt.savefig('./figures/midpoints.pdf',bbox_inches = 'tight')\n",
    "plt.show()"
   ]
  },
  {
   "cell_type": "markdown",
   "id": "057f15e5",
   "metadata": {},
   "source": [
    "# Logistic fits\n",
    "\n",
    "As mentioned, \"curve_fit_parameters.mat\"  contains result of logistic fits of neurons.\n",
    "\n",
    "Read './measured_neurons/CurveFit.ipynb' for more info"
   ]
  },
  {
   "cell_type": "code",
   "execution_count": null,
   "id": "df6ab77b",
   "metadata": {
    "ExecuteTime": {
     "end_time": "2023-04-22T19:26:57.129606Z",
     "start_time": "2023-04-22T19:26:56.776386Z"
    }
   },
   "outputs": [],
   "source": [
    "# verify r_max_hat = 245.40 and get r_max's confidence interval\n",
    "n_stds = 2\n",
    "\n",
    "# calculate r_max_hat\n",
    "neurons_all_ = []\n",
    "for i in range(len(ec.neurons_)):\n",
    "    neurons_all_.append(sigmoid_func(\n",
    "        ec.x, *data['ps'][indices][i, :]))\n",
    "\n",
    "r_max_n = [\n",
    "    np.sum(np.array(neurons_all_[i]) * ec.p_prior * ec._x_gap)\n",
    "    for i in range(len(neurons_all_))]\n",
    "r_max_hat = np.sum(r_max_n)\n",
    "print(r_max_hat) # 245.41\n",
    "\n",
    "r_max_std = np.sqrt(N_neurons) * np.std(r_max_n)\n",
    "r_max_CI_std = np.array([r_max_hat - 2 * r_max_std, r_max_hat + 2 * r_max_std])\n",
    "print('min {}, max {}'.format(min(r_max_CI_std),max(r_max_CI_std)))\n"
   ]
  },
  {
   "cell_type": "code",
   "execution_count": null,
   "id": "e6e2a2b0",
   "metadata": {},
   "outputs": [],
   "source": [
    "ps_bootstrap = sio.loadmat('./measured_neurons/curve_fit_bootstrap.mat')['ps']\n",
    "ps_bootstrap = ps_bootstrap[indices,:,:]\n",
    "# calculate r_max's confidence interval\n",
    "neurons_all = []\n",
    "for j in range(ps_bootstrap.shape[1]):\n",
    "    neurons_all_ = []\n",
    "    for i in range(len(ec.neurons_)):\n",
    "        neurons_all_.append(sigmoid_func(\n",
    "            ec_simple.x, *ps_bootstrap[i, j, :]))\n",
    "    neurons_all.append(np.sum(np.array(neurons_all_) * ec_simple.p_prior * ec_simple._x_gap, axis=1))\n",
    "neurons_all = np.array(neurons_all)\n",
    "r_max_CI_dat = [np.percentile(neurons_all, 2.5), np.percentile(neurons_all, 97.5)]\n",
    "\n",
    "\n",
    "sampled_neurons_idx = np.random.randint(N_neurons, size=neurons_all.shape)\n",
    "sampled_neurons = np.array([\n",
    "    neu[sampled_neurons_idx[i]]\n",
    "    for i, neu in enumerate(np.array(neurons_all))\n",
    "])\n",
    "np.sum(sampled_neurons, axis=1)\n",
    "r_max_CI = [np.percentile(np.sum(sampled_neurons, axis=1), 2.5),\n",
    "            np.percentile(np.sum(sampled_neurons, axis=1), 97.5)]"
   ]
  },
  {
   "cell_type": "markdown",
   "id": "9973bf4d",
   "metadata": {},
   "source": [
    "# Threshold - Gain plot"
   ]
  },
  {
   "cell_type": "code",
   "execution_count": null,
   "id": "18aa2982",
   "metadata": {
    "ExecuteTime": {
     "end_time": "2023-04-22T19:27:31.282838Z",
     "start_time": "2023-04-22T19:27:03.717425Z"
    }
   },
   "outputs": [],
   "source": [
    "# get asymmatric slopes \n",
    "# increase num_samples to int(1e4) \n",
    "tf, quantiles_constant, thresholds_constant, alphas, xs, ys = ec.plot_approximate_kinky_fromsim_fitting_only_raw_rstar(\n",
    "    r_star=xss[id][1], num_samples=int(1e4))"
   ]
  },
  {
   "cell_type": "code",
   "execution_count": null,
   "id": "6dac9902",
   "metadata": {
    "ExecuteTime": {
     "end_time": "2023-04-22T19:27:31.293707Z",
     "start_time": "2023-04-22T19:27:31.287464Z"
    }
   },
   "outputs": [],
   "source": [
    "# load details from Dabneys paper. refer to `./measured_neurons/dabney_matlab/`\n",
    "fig5 = sio.loadmat(\"./measured_neurons/dabney_matlab/dabney_fit.mat\")\n",
    "fig5_betas = sio.loadmat(\"./measured_neurons/dabney_matlab/dabney_utility_fit.mat\")\n",
    "zero_crossings = fig5['zeroCrossings_all'][:, 0]\n",
    "scaleFactNeg_all = fig5['scaleFactNeg_all'][:, 0]\n",
    "scaleFactPos_all = fig5['scaleFactPos_all'][:, 0]\n",
    "asymM_all = fig5['asymM_all'][:, 0]\n",
    "ZC_true_label = fig5['utilityAxis'].squeeze()\n",
    "ZC_estimator = lambda x: fig5_betas[\"betas\"][0, 0] + fig5_betas[\"betas\"][1, 0] * x\n",
    "idx_to_maintain = np.where((scaleFactNeg_all * scaleFactPos_all) > 0)[0]\n",
    "asymM_all = asymM_all[idx_to_maintain]\n",
    "asymM_all_save = asymM_all.copy()\n",
    "idx_sorted = np.argsort(asymM_all)\n",
    "asymM_all = asymM_all[idx_sorted]\n",
    "estimated_ = np.array(ec.get_quantiles_RPs(asymM_all))\n",
    "zero_crossings_ = fig5['zeroCrossings_all'][:, 0]\n",
    "zero_crossings_ = zero_crossings_[idx_to_maintain]\n",
    "zero_crossings_ = zero_crossings_[idx_sorted]\n",
    "zero_crossings_estimated = ZC_estimator(zero_crossings_) # estimated thresholds"
   ]
  },
  {
   "cell_type": "code",
   "execution_count": null,
   "id": "6fa4f2f3",
   "metadata": {
    "ExecuteTime": {
     "end_time": "2023-04-22T19:28:25.358860Z",
     "start_time": "2023-04-22T19:27:31.297549Z"
    },
    "scrolled": true
   },
   "outputs": [],
   "source": [
    "# non linear fit + bootstrap\n",
    "%matplotlib inline\n",
    "fig4, ax4 = plt.subplots(1, 1)\n",
    "idx_sorted_ = np.argsort(asymM_all_save)\n",
    "\n",
    "hires_x = np.linspace(0, 15, 1000)\n",
    "func = lambda x, a, b: a*(x) + b\n",
    "# best_fit_ab, covar = curve_fit(func, NDAT['ZC'][0,0].squeeze(), param_set[1][:,1],\n",
    "#                                absolute_sigma = True)\n",
    "best_fit_ab, covar = curve_fit(func, zero_crossings_estimated, param_set[1][:,1][idx_sorted_],\n",
    "                               absolute_sigma = True)\n",
    "\n",
    "num_sim = int(5e3)\n",
    "ps = []\n",
    "for i in range(num_sim):\n",
    "    i_sample = np.random.choice(np.linspace(0,len(zero_crossings_estimated)-1,len(zero_crossings_estimated),dtype=np.int16),len(zero_crossings_estimated))\n",
    "    while True:\n",
    "        try:\n",
    "            fit_ab, covar = curve_fit(func, zero_crossings_estimated[i_sample], param_set[1][:,1][idx_sorted_][i_sample],\n",
    "                                       absolute_sigma = True, p0=[1,1], maxfev=int(1e4))\n",
    "        except:\n",
    "            print('redo it with different random seed.')\n",
    "        break\n",
    "        \n",
    "    ps.append(fit_ab)\n",
    "    \n",
    "scipy.stats.pearsonr(zero_crossings_estimated, param_set[1][:,1][idx_sorted_])\n",
    "\n",
    "y_RRs = []\n",
    "for count, R in enumerate(r_max_CI):\n",
    "    ec = value_efficient_coding_moment(\n",
    "        N_neurons=N_neurons, R_t=R, X_OPT_ALPH=xss[id][0], slope_scale=5.07)\n",
    "    ec.replace_with_pseudo()\n",
    "    y_RRs.append(ec.g_x_pseudo)\n",
    "\n",
    "y_RRs = np.asarray(y_RRs)\n",
    "lower = y_RRs[0]\n",
    "upper = y_RRs[1]\n",
    "ax4.fill_between(ec.x_inf, lower, upper,\n",
    "                 color = '#9ebcda', alpha = 1)    \n",
    "# ax4.plot(ec.x_inf, ec.g_x_pseudo, '-', linewidth=1,\n",
    "#              c='#9ebcda',alpha=1)\n",
    "\n",
    "ax4.set_xticks([.1, .3, 1.2, 2.5, 5, 10, 20])\n",
    "ax4.scatter(zero_crossings_estimated, param_set[1][:, 1][idx_sorted_], s=10, c=[0, 0, 0])\n",
    "ysample = np.asarray([func(hires_x, *pi) for pi in ps])\n",
    "lower = np.percentile(ysample, 5, axis=0)\n",
    "upper = np.percentile(ysample, 95, axis=0)\n",
    "\n",
    "ax4.plot(hires_x, func(hires_x, *best_fit_ab), 'black')\n",
    "ax4.fill_between(hires_x, lower, upper,\n",
    "                 color = 'black', alpha = 0.15)\n",
    "\n",
    "ax4.set_xlim(0, 12)\n",
    "ax4.set_ylim(0, 40)\n",
    "fig4.set_figwidth(4.5)\n",
    "fig4.set_figheight(4.5)\n",
    "ax4.spines['right'].set_visible(False)\n",
    "ax4.spines['top'].set_visible(False)\n",
    "\n",
    "fig4.savefig(\n",
    "    './figures/threshold-gain2-boot.png')\n",
    "fig4.savefig(\n",
    "    './figures/threshold-gain2-boot.pdf')\n",
    "# for illustration\n",
    "ax4.spines['left'].set_visible(False)\n",
    "ax4.spines['bottom'].set_visible(False)\n",
    "ax4.set_xticks([])\n",
    "ax4.set_yticks([])\n",
    "fig4.savefig(\n",
    "    './figures/threshold-gain2-boot3.pdf')\n",
    "fig4.savefig(\n",
    "    './figures/threshold-gain2-boot3.png')\n"
   ]
  },
  {
   "cell_type": "markdown",
   "id": "881f721e",
   "metadata": {},
   "source": [
    "# Threshold - Asymmetry plot"
   ]
  },
  {
   "cell_type": "code",
   "execution_count": null,
   "id": "862daca3",
   "metadata": {
    "ExecuteTime": {
     "end_time": "2023-04-22T19:28:51.928595Z",
     "start_time": "2023-04-22T19:28:51.669371Z"
    }
   },
   "outputs": [],
   "source": [
    "fig, ax = plt.subplots(1,1)\n",
    "RPs = ec.get_quantiles_RPs(quantiles_constant)\n",
    "\n",
    "ax.spines['right'].set_visible(False)\n",
    "ax.spines['top'].set_visible(False)\n",
    "ax.scatter(zero_crossings_estimated, asymM_all, s=10, color='k')\n",
    "ax.scatter(thresholds_constant, quantiles_constant, s=10, color='#9ebcda')\n",
    "ax.set_xticks([0, 1.2, 2.5, 5, 10, 20])\n",
    "ax.set_xlim([0, 12])\n",
    "ax.set_ylim([0, 1])\n",
    "plt.grid(False)\n",
    "fig.set_figwidth(4.5)\n",
    "fig.set_figheight(4.5)\n",
    "\n",
    "RPSS = ec.get_quantiles_RPs(np.linspace(0,1,1000))\n",
    "# ax.plot(np.linspace(0,1,1000), RPSS, '--', color=[.7,.7,.7])\n",
    "ax.plot(RPSS,np.linspace(0,1,1000), '--', color=[.7,.7,.7])\n",
    "\n",
    "fig.savefig(\n",
    "    './figures/threshold-asymm.png')\n",
    "fig.savefig(\n",
    "    './figures/threshold-asymm.pdf')"
   ]
  },
  {
   "cell_type": "markdown",
   "id": "7489741f",
   "metadata": {},
   "source": [
    "# slope vs density"
   ]
  },
  {
   "cell_type": "code",
   "execution_count": null,
   "id": "fa9e5400",
   "metadata": {
    "ExecuteTime": {
     "end_time": "2023-04-22T19:28:51.935114Z",
     "start_time": "2023-04-22T19:28:51.931088Z"
    }
   },
   "outputs": [],
   "source": [
    "dir_measured_neurons = 'measured_neurons/'\n",
    "\n",
    "data = sio.loadmat(dir_measured_neurons + 'curve_fit_parameters.mat')\n"
   ]
  },
  {
   "cell_type": "code",
   "execution_count": null,
   "id": "553ef88a",
   "metadata": {
    "ExecuteTime": {
     "end_time": "2023-04-22T19:28:53.226720Z",
     "start_time": "2023-04-22T19:28:53.220593Z"
    }
   },
   "outputs": [],
   "source": [
    "_slopes = []\n",
    "_thresholds = []\n",
    "for i in range(len(neurons_all_)):\n",
    "    idx = np.argmin(np.abs(neurons_all_[i] - xss[id][1]))\n",
    "    _thresholds.append(ec.x[idx])\n",
    "    _slopes.append(first_derivative_sigmoid_func(ec.x[idx],*data['ps'][indices][i, :]))\n",
    "print(_thresholds)\n",
    "print(_slopes)"
   ]
  },
  {
   "cell_type": "code",
   "execution_count": null,
   "id": "b02c8726",
   "metadata": {},
   "outputs": [],
   "source": [
    "data['ps'][indices]"
   ]
  },
  {
   "cell_type": "code",
   "execution_count": null,
   "id": "eb630d96",
   "metadata": {
    "ExecuteTime": {
     "end_time": "2023-04-22T19:28:53.430472Z",
     "start_time": "2023-04-22T19:28:53.236119Z"
    }
   },
   "outputs": [],
   "source": [
    "# fitting to sigmoid_func\n",
    "num_samples = int(100)\n",
    "\n",
    "idx_samples = np.random.choice(\n",
    "    np.linspace(0,len(ec.p_prior)-1, len(ec.p_prior)),\n",
    "    size=(num_samples),\n",
    "    p=ec.p_prior*ec._x_gap).astype(np.int16)\n",
    "x_samples = ec.x[idx_samples]\n",
    "\n",
    "np.random.seed(1000)\n",
    "\n",
    "neurons_sigfit = []\n",
    "neuorns_ps = []\n",
    "for i in range(len(ec.neurons_)):\n",
    "    # one poisson sample from firing rate\n",
    "    neuron_samples = [np.random.poisson(ec.neurons_[i][sample]) for sample in idx_samples]\n",
    "    popt, pcov = curve_fit(\n",
    "        sigmoid_func,\n",
    "        x_samples,\n",
    "        neuron_samples,\n",
    "        p0=[1, 1, 1],\n",
    "        bounds=([0, 0, 0], [np.inf, np.inf, np.inf]))\n",
    "    neurons_sigfit.append(sigmoid_func(ec.x, *popt))\n",
    "    neuorns_ps.append(popt)"
   ]
  },
  {
   "cell_type": "code",
   "execution_count": null,
   "id": "6f0193a5",
   "metadata": {
    "ExecuteTime": {
     "end_time": "2023-04-22T19:28:53.435179Z",
     "start_time": "2023-04-22T19:28:53.431801Z"
    }
   },
   "outputs": [],
   "source": [
    "_thresholds_constant = []\n",
    "_slopes_constant = []\n",
    "for i in range(len(neurons_all_)):\n",
    "    _thresholds_constant.append(thresholds_constant[i])\n",
    "    idx = np.argmin(np.abs(ec.x - thresholds_constant[i]))\n",
    "    _slopes_constant.append(first_derivative_sigmoid_func(ec.x[idx],*neuorns_ps[i]))"
   ]
  },
  {
   "cell_type": "code",
   "execution_count": null,
   "id": "88b1d65f",
   "metadata": {
    "ExecuteTime": {
     "end_time": "2023-04-22T19:28:55.261649Z",
     "start_time": "2023-04-22T19:28:53.442173Z"
    }
   },
   "outputs": [],
   "source": [
    "%matplotlib inline\n",
    "# scatter plot between _thresholds and _slopes\n",
    "fig, ax = plt.subplots(1,2)\n",
    "# plot fitted line for the scatter plot\n",
    "\n",
    "# hires_x = np.linspace(0, 15, 1000)\n",
    "# func = lambda x, a, b: a*(x) + b\n",
    "# ysample = np.asarray([func(hires_x, *pi) for pi in ps])\n",
    "# lower = np.percentile(ysample, 5, axis=0)\n",
    "# upper = np.percentile(ysample, 95, axis=0)\n",
    "# ax4.fill_between(hires_x, lower, upper,\n",
    "#                  color = 'black', alpha = 0.15)\n",
    "\n",
    "func = lambda x, slope, intercept: slope*(x) + intercept\n",
    "num_sim = int(5e3)\n",
    "ps = []\n",
    "for i in range(num_sim):\n",
    "    i_sample = np.random.choice(np.linspace(0,len(zero_crossings_estimated)-1,len(zero_crossings_estimated),dtype=np.int16),len(zero_crossings_estimated))\n",
    "    while True:\n",
    "        try:\n",
    "            # fit the line for _thresholds and _slopes\n",
    "            slope, intercept, r_value, p_value, std_err = stats.linregress(np.array(_thresholds_constant)[i_sample], np.array(_slopes_constant)[i_sample])\n",
    "        except:\n",
    "            print('redo it with different random seed.')\n",
    "        break\n",
    "\n",
    "    ps.append([slope, intercept])\n",
    "\n",
    "slope, intercept, r_value, p_value, std_err = stats.linregress(_thresholds, _slopes)\n",
    "ax[0].plot([0, 12], [intercept, intercept + slope * 12], 'k', lw=2)\n",
    "# bow tie shaped shaded plot for the 90% confidence interval\n",
    "ysample = np.asarray([func(np.linspace(0,12,100), *pi) for pi in ps])\n",
    "lower = np.percentile(ysample, 5, axis=0)\n",
    "upper = np.percentile(ysample, 95, axis=0)\n",
    "ax[0].fill_between(np.linspace(0,12,100), lower, upper,\n",
    "                 color = 'black', alpha = 0.15)\n",
    "\n",
    "ps = []\n",
    "for i in range(num_sim):\n",
    "    i_sample = np.random.choice(np.linspace(0,len(zero_crossings_estimated)-1,len(zero_crossings_estimated),dtype=np.int16),len(zero_crossings_estimated))\n",
    "    while True:\n",
    "        try:\n",
    "            # fit the line for _thresholds and _slopes\n",
    "            slope, intercept, r_value, p_value, std_err = stats.linregress(np.array(_thresholds)[i_sample], np.array(_slopes)[i_sample])\n",
    "        except:\n",
    "            print('redo it with different random seed.')\n",
    "        break\n",
    "\n",
    "    ps.append([slope, intercept])\n",
    "slope, intercept, r_value, p_value, std_err = stats.linregress(_thresholds_constant, _slopes_constant)\n",
    "ax[1].plot([0, 12], [intercept, intercept + slope * 12], '#9ebcda', lw=2)\n",
    "ysample = np.asarray([func(np.linspace(0,12,100), *pi) for pi in ps])\n",
    "lower = np.percentile(ysample, 5, axis=0)\n",
    "upper = np.percentile(ysample, 95, axis=0)\n",
    "ax[1].fill_between(np.linspace(0,12,100), lower, upper,\n",
    "                 color = '#9ebcda', alpha = 0.15)\n",
    "\n",
    "\n",
    "\n",
    "ax[0].scatter(_thresholds, _slopes, s=10, color='k', alpha=0.4)\n",
    "ax[1].scatter(_thresholds_constant, _slopes_constant, s=10, color='#9ebcda', alpha=0.4)\n",
    "\n",
    "\n",
    "# plt.grid(True)\n",
    "fig.set_figwidth(7)\n",
    "fig.set_figheight(3)\n",
    "\n",
    "# ax.legend(['Measured neurons','Efficient code'])\n",
    "\n",
    "# correlation analysis for r and p\n",
    "from scipy.stats import pearsonr\n",
    "print(pearsonr(_thresholds, _slopes))\n",
    "print(pearsonr(_thresholds_constant, _slopes_constant))\n",
    "\n",
    "for i in range(2):\n",
    "    ax[i].set_xlabel('Threshold')\n",
    "    ax[i].set_ylabel('Slope')\n",
    "\n",
    "    ax[i].spines['right'].set_visible(False)\n",
    "    ax[i].spines['top'].set_visible(False)\n",
    "\n",
    "    ax[i].set_xlim([0, 12])\n",
    "    if i == 0:\n",
    "        ax[i].set_ylim([0, 2.1])\n",
    "        ax[i].set_yticks(np.linspace(0, 2, 5))\n",
    "    else:\n",
    "        ax[i].set_ylim([0, 4.2])\n",
    "        ax[i].set_yticks(np.linspace(0, 4, 5))\n",
    "\n",
    "\n",
    "\n",
    "fig.savefig(\n",
    "    './figures/threshold-slope_model_sbs_diffaxis.png')\n",
    "fig.savefig(\n",
    "    './figures/threshold-slope_model_sbs_diffaxis.pdf')\n",
    "plt.show()"
   ]
  },
  {
   "cell_type": "markdown",
   "id": "831eae5b",
   "metadata": {},
   "source": [
    "# plot half gain and r-star\n"
   ]
  },
  {
   "cell_type": "code",
   "execution_count": null,
   "id": "c46c2334",
   "metadata": {
    "ExecuteTime": {
     "end_time": "2023-04-22T19:28:55.266138Z",
     "start_time": "2023-04-22T19:28:55.262869Z"
    }
   },
   "outputs": [],
   "source": [
    "NDAT = sio.loadmat(dir_measured_neurons + 'data_max.mat')['dat']\n",
    "data = sio.loadmat(dir_measured_neurons + 'curve_fit_parameters.mat')['ps']"
   ]
  },
  {
   "cell_type": "code",
   "execution_count": null,
   "id": "7d39b9c3",
   "metadata": {
    "ExecuteTime": {
     "end_time": "2023-04-22T19:28:55.269381Z",
     "start_time": "2023-04-22T19:28:55.267853Z"
    }
   },
   "outputs": [],
   "source": [
    "half_gain_model = [ec.gsn[i] / 2 for i in range(len(ec.gsn))]\n"
   ]
  },
  {
   "cell_type": "code",
   "execution_count": null,
   "id": "bf38fa22",
   "metadata": {
    "ExecuteTime": {
     "end_time": "2023-04-22T19:28:55.273335Z",
     "start_time": "2023-04-22T19:28:55.271741Z"
    }
   },
   "outputs": [],
   "source": [
    "\n",
    "\n",
    "# collect b from sigmoid _func\n",
    "bs = []\n",
    "for i in range(len(data)):\n",
    "    bs.append(data[i][1])\n",
    "\n",
    "# half of the gain\n",
    "half_gain = np.array(bs) / 2\n",
    "\n",
    "# remove the neuron that is not valid\n",
    "half_gain = np.delete(half_gain, 19)"
   ]
  },
  {
   "cell_type": "code",
   "execution_count": null,
   "id": "267325ad",
   "metadata": {
    "ExecuteTime": {
     "end_time": "2023-04-22T19:28:55.638372Z",
     "start_time": "2023-04-22T19:28:55.293469Z"
    }
   },
   "outputs": [],
   "source": [
    "%matplotlib inline\n",
    "# plot small ticks of half gain\n",
    "fig, ax = plt.subplots(1, 1)\n",
    "\n",
    "# vlines plot of half gain\n",
    "ax.vlines(half_gain, 0, .01*np.ones(39), colors='k')\n",
    "ax.vlines(half_gain_model, 0, .01*np.ones(39), colors='#9ebcda')\n",
    "\n",
    "from scipy.stats import norm\n",
    "def normal_kde(x, y, sigma, x_sample):\n",
    "    \"\"\"calculates a normal based kernel density estimate\n",
    "    based on samples at x with weights/probabilities y evaluated at x_sample\"\"\"\n",
    "    y_sample = np.zeros_like(x_sample)\n",
    "    for x_i, y_i in zip(x, y):\n",
    "        y_sample += (norm.pdf((x_sample - x_i) / sigma) / sigma) * y_i\n",
    "    return y_sample\n",
    "\n",
    "# plot gaussian_kde of half gain\n",
    "ys = normal_kde(half_gain, np.ones(39)/39, 1.4, ec.x[:8500])\n",
    "plt.plot(ec.x[:8500], ys, color='k')\n",
    "\n",
    "# plot gaussian_kde of half_gain_model\n",
    "ys = normal_kde(half_gain_model, np.ones(39)/39, 1.4, ec.x[:8500])\n",
    "plt.plot(ec.x[:8500], ys, color='#9ebcda')\n",
    "\n",
    "\n",
    "# plot red vertical long line on 7.666667\n",
    "# ax.vlines(7.666667, 0, .2, colors='r')\n",
    "# and text that sais its $r^*$\n",
    "# ax.text(7.6, .16, '$r^*$', color='r')\n",
    "\n",
    "# small red arrow on the x axis that shows r^*\n",
    "ax.annotate(\n",
    "    '', xy=(7.666667, 0), xytext=(7.666667, -.04),\n",
    "    arrowprops=dict(facecolor='red', shrink=0.05))\n",
    "\n",
    "# text right below the arrow says its $r^*$\n",
    "ax.text(6, -.055, '$r^*=7.67$', color='r')\n",
    "\n",
    "# xticks and yticks and labels\n",
    "ax.set_xticks(np.linspace(0, 25, 6))\n",
    "ax.set_yticks(np.linspace(0, .2, 5))\n",
    "ax.set_xlabel('Response (Hz)')\n",
    "ax.set_ylabel('Density')\n",
    "\n",
    "# set x and y lim\n",
    "ax.set_xlim(0, 25)\n",
    "ax.set_ylim(0, .2)\n",
    "\n",
    "\n",
    "ax.spines['right'].set_visible(False)\n",
    "ax.spines['top'].set_visible(False)\n",
    "fig.set_figwidth(6.2)\n",
    "fig.set_figheight(2)\n",
    "# write title that says it is half gain of the neurons\n",
    "# plt.title('Half gain of the neurons')\n",
    "plt.savefig('./figures/half_gain.png', bbox_inches='tight')\n",
    "# pdf\n",
    "plt.savefig('./figures/half_gain.pdf', bbox_inches='tight')\n",
    "\n",
    "plt.show()\n"
   ]
  },
  {
   "cell_type": "markdown",
   "id": "e6a6fcaa",
   "metadata": {},
   "source": [
    "# thresholds & density\n"
   ]
  },
  {
   "cell_type": "code",
   "execution_count": null,
   "id": "bca5b66f",
   "metadata": {
    "ExecuteTime": {
     "end_time": "2023-04-22T19:28:56.378328Z",
     "start_time": "2023-04-22T19:28:56.191101Z"
    }
   },
   "outputs": [],
   "source": [
    "# fitting to sigmoid_func\n",
    "num_samples = int(100)\n",
    "# get ec_moment.x samples from ec_moment.p_prior\n",
    "idx_samples = np.random.choice(\n",
    "    np.linspace(0,len(ec.p_prior)-1, len(ec.p_prior)),\n",
    "    size=(num_samples),\n",
    "    p=ec.p_prior*ec._x_gap\n",
    ").astype(np.int16)\n",
    "x_samples = ec.x[idx_samples]\n",
    "\n",
    "np.random.seed(1000)\n",
    "\n",
    "neurons_sigfit = []\n",
    "neuorns_ps = []\n",
    "for i in range(len(ec.neurons_)):\n",
    "    # one poisson sample from firing rate\n",
    "    neuron_samples = [np.random.poisson(ec.neurons_[i][sample]) for sample in idx_samples]\n",
    "    popt, pcov = curve_fit(\n",
    "        sigmoid_func,\n",
    "        x_samples,\n",
    "        neuron_samples, \n",
    "        p0=[1, 1, 1],\n",
    "        bounds=([0, 0, 0], [np.inf, np.inf, np.inf])\n",
    "    )\n",
    "    neurons_sigfit.append(sigmoid_func(ec.x, *popt))\n",
    "    neuorns_ps.append(popt)"
   ]
  },
  {
   "cell_type": "code",
   "execution_count": null,
   "id": "0ac42efd",
   "metadata": {
    "ExecuteTime": {
     "end_time": "2023-04-22T19:28:56.383403Z",
     "start_time": "2023-04-22T19:28:56.379934Z"
    }
   },
   "outputs": [],
   "source": [
    "_thresholds_constant = []\n",
    "_slopes_constant = []\n",
    "for i in range(len(neurons_all_)):\n",
    "    _thresholds_constant.append(thresholds_constant[i])\n",
    "    idx = np.argmin(np.abs(ec.x - thresholds_constant[i]))\n",
    "    _slopes_constant.append(first_derivative_sigmoid_func(ec.x[idx],*neuorns_ps[i]))"
   ]
  },
  {
   "cell_type": "code",
   "execution_count": null,
   "id": "d16e8913",
   "metadata": {
    "ExecuteTime": {
     "end_time": "2023-04-22T19:28:56.393673Z",
     "start_time": "2023-04-22T19:28:56.389515Z"
    }
   },
   "outputs": [],
   "source": [
    "midpoints_models = []\n",
    "\n",
    "#find for each in ec_moment.neurons_ the index of the neuron that has the half of ec_moment.gsn\n",
    "for i in range(len(ec.neurons_)):\n",
    "    # argmin\n",
    "    idx = np.argmin(np.abs(ec.neurons_[i] - ec.gsn[i] / 2))\n",
    "    # append ec_moment.x\n",
    "    midpoints_models.append(ec.x[idx])\n",
    "midpoints_models = np.array(midpoints_models)"
   ]
  },
  {
   "cell_type": "code",
   "execution_count": null,
   "id": "fbab29f8",
   "metadata": {
    "ExecuteTime": {
     "end_time": "2023-04-22T19:28:57.126478Z",
     "start_time": "2023-04-22T19:28:56.419800Z"
    }
   },
   "outputs": [],
   "source": [
    "%matplotlib inline\n",
    "\n",
    "fig, ax = plt.subplots(1, 2, sharey=True, gridspec_kw={'wspace': 0.15})\n",
    "\n",
    "sigma = .8\n",
    "\n",
    "\n",
    "xs = np.log(ec.x[:8500])\n",
    "ys = log_kde(midpoints, np.ones(39)/39, sigma, ec.x[:8500])\n",
    "ax[0].plot(ec.x[:8500], ys, color='k')\n",
    "xs = np.log(ec.x[:8500])\n",
    "ys = log_kde(midpoints_models, np.ones(39)/39, sigma, ec.x[:8500])\n",
    "ax[0].plot(ec.x[:8500], ys, color='#9ebcda')\n",
    "ax[0].set_xlim(0, 25)\n",
    "ax[0].set_ylim(0, .25)\n",
    "ax[0].spines['right'].set_visible(False)\n",
    "ax[0].spines['top'].set_visible(False)\n",
    "\n",
    "\n",
    "xs = np.log(ec.x[:8500])\n",
    "ys = log_kde(_thresholds, np.ones(39)/39,sigma, ec.x[:8500])\n",
    "ax[1].plot(ec.x[:8500], ys, color='k')\n",
    "xs = np.log(ec.x[:8500])\n",
    "ys = log_kde(_thresholds_constant, np.ones(39)/39,sigma, ec.x[:8500])\n",
    "ax[1].plot(ec.x[:8500], ys, color='#9ebcda')\n",
    "ax[1].set_xlim(0, 25)\n",
    "ax[1].set_ylim(0, .25)\n",
    "ax[1].spines['right'].set_visible(False)\n",
    "ax[1].spines['top'].set_visible(False)\n",
    "# plt.plot(ec_moment.x[:8500], ys,color='#9ebcda')\n",
    "# ax.vlines(midpoints, 0, .012*np.ones(midpoints.shape),colors='#9ebcda')\n",
    "# ax.spines['right'].set_visible(False)\n",
    "# ax.spines['top'].set_visible(False)\n",
    "\n",
    "# proper size\n",
    "fig.set_figwidth(6.2)\n",
    "fig.set_figheight(2)\n",
    "# set x and y labels\n",
    "ax[0].set_xlabel('Reward (µL)')\n",
    "ax[0].set_ylabel('Density')\n",
    "ax[1].set_xlabel('Reward (µL)')\n",
    "ax[1].set_ylabel('Density')\n",
    "\n",
    "# set titles\n",
    "ax[0].set_title('Midpoints')\n",
    "ax[1].set_title('Thresholds')\n",
    "\n",
    "\n",
    "\n",
    "plt.savefig('./figures/midpoints_thresholds.png', bbox_inches='tight')\n",
    "plt.savefig('./figures/midpoints_thresholds.pdf', bbox_inches='tight')\n",
    "plt.show()\n"
   ]
  },
  {
   "cell_type": "code",
   "execution_count": null,
   "id": "5d9c9811",
   "metadata": {
    "ExecuteTime": {
     "end_time": "2023-04-22T19:28:57.128827Z",
     "start_time": "2023-04-22T19:28:57.126228Z"
    }
   },
   "outputs": [],
   "source": []
  }
 ],
 "metadata": {
  "kernelspec": {
   "display_name": "Python 3 (ipykernel)",
   "language": "python",
   "name": "python3"
  },
  "language_info": {
   "codemirror_mode": {
    "name": "ipython",
    "version": 3
   },
   "file_extension": ".py",
   "mimetype": "text/x-python",
   "name": "python",
   "nbconvert_exporter": "python",
   "pygments_lexer": "ipython3",
   "version": "3.10.11"
  },
  "toc": {
   "base_numbering": 1,
   "nav_menu": {},
   "number_sections": true,
   "sideBar": true,
   "skip_h1_title": false,
   "title_cell": "Table of Contents",
   "title_sidebar": "Contents",
   "toc_cell": true,
   "toc_position": {
    "height": "calc(100% - 180px)",
    "left": "10px",
    "top": "150px",
    "width": "165px"
   },
   "toc_section_display": true,
   "toc_window_display": true
  }
 },
 "nbformat": 4,
 "nbformat_minor": 5
}
