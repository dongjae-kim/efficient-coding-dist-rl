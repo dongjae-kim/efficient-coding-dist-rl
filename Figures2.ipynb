{
 "cells": [
  {
   "cell_type": "markdown",
   "id": "e72d6d7d",
   "metadata": {
    "toc": true
   },
   "source": [
    "<h1>Table of Contents<span class=\"tocSkip\"></span></h1>\n",
    "<div class=\"toc\"><ul class=\"toc-item\"><li><span><a href=\"#Model-fitting\" data-toc-modified-id=\"Model-fitting-1\"><span class=\"toc-item-num\">1&nbsp;&nbsp;</span>Model fitting</a></span></li><li><span><a href=\"#Prior-distribution\" data-toc-modified-id=\"Prior-distribution-2\"><span class=\"toc-item-num\">2&nbsp;&nbsp;</span>Prior distribution</a></span></li><li><span><a href=\"#Logistic-fits\" data-toc-modified-id=\"Logistic-fits-3\"><span class=\"toc-item-num\">3&nbsp;&nbsp;</span>Logistic fits</a></span></li><li><span><a href=\"#Threshold---Gain-plot\" data-toc-modified-id=\"Threshold---Gain-plot-4\"><span class=\"toc-item-num\">4&nbsp;&nbsp;</span>Threshold - Gain plot</a></span></li><li><span><a href=\"#Threshold---Asymmetry-plot\" data-toc-modified-id=\"Threshold---Asymmetry-plot-5\"><span class=\"toc-item-num\">5&nbsp;&nbsp;</span>Threshold - Asymmetry plot</a></span></li><li><span><a href=\"#slope-vs-density\" data-toc-modified-id=\"slope-vs-density-6\"><span class=\"toc-item-num\">6&nbsp;&nbsp;</span>slope vs density</a></span></li><li><span><a href=\"#plot-half-ot-the-gain-and-r-star\" data-toc-modified-id=\"plot-half-ot-the-gain-and-r-star-7\"><span class=\"toc-item-num\">7&nbsp;&nbsp;</span>plot half ot the gain and r-star</a></span></li><li><span><a href=\"#thresholds-&amp;-density\" data-toc-modified-id=\"thresholds-&amp;-density-8\"><span class=\"toc-item-num\">8&nbsp;&nbsp;</span>thresholds &amp; density</a></span></li></ul></div>"
   ]
  },
  {
   "cell_type": "markdown",
   "id": "28a2983d",
   "metadata": {},
   "source": [
    "# Model fitting\n",
    "\n",
    "```\n",
    "$ python fitting_models.py i\n",
    "```\n",
    "where `i` is the seed number.\n",
    "\n"
   ]
  },
  {
   "cell_type": "markdown",
   "id": "04010ea6",
   "metadata": {},
   "source": [
    "# Prior distribution"
   ]
  },
  {
   "cell_type": "code",
   "execution_count": 2,
   "id": "3468b423",
   "metadata": {
    "ExecuteTime": {
     "start_time": "2023-05-07T16:27:37.638712Z",
     "end_time": "2023-05-07T16:27:37.674169Z"
    }
   },
   "outputs": [
    {
     "name": "stdout",
     "output_type": "stream",
     "text": [
      "7.123836782987522\n",
      "[0.22222222 8.        ]\n"
     ]
    }
   ],
   "source": [
    "# load alpha that is fitted\n",
    "import pickle as pkl\n",
    "import numpy as np# load the fitted ec parameter: r_max\n",
    "savedir = './res_fit_alpha_fit_test/'\n",
    "\n",
    "x_opt = []\n",
    "LSE = 99999\n",
    "model_name = ''\n",
    "LSE_s = []\n",
    "x_opt_s = []\n",
    "model_name_s = []\n",
    "\n",
    "for ii in range(1000):\n",
    "    try:\n",
    "        with open(savedir + 'res_fit_alpha_fit_test{0}.pkl'.format(ii), 'rb') as f:\n",
    "            data_1 = pkl.load(f)\n",
    "\n",
    "        for i in range(len(data_1['res_s'])):\n",
    "            LSE_s.append(data_1['res_s'][i]['fun'])\n",
    "            x_opt_s.append(data_1['res_s'][i]['x'])\n",
    "            if LSE > data_1['res_s'][i]['fun']:\n",
    "                LSE = data_1['res_s'][i]['fun']\n",
    "                x_opt = data_1['res_s'][i]['x']\n",
    "    except:\n",
    "        ''\n",
    "\n",
    "idxxx = np.argsort(LSE_s)\n",
    "xss = np.array(x_opt_s)\n",
    "id = np.argmin(LSE_s)\n",
    "\n",
    "print(LSE_s[id]) # loss\n",
    "print(xss[id]) # parameter fitted"
   ]
  },
  {
   "cell_type": "code",
   "execution_count": 3,
   "id": "c9e66d65",
   "metadata": {
    "ExecuteTime": {
     "start_time": "2023-05-07T16:27:39.617736Z",
     "end_time": "2023-05-07T16:27:40.346698Z"
    }
   },
   "outputs": [
    {
     "name": "stderr",
     "output_type": "stream",
     "text": [
      "/Users/dongjaekim/Library/CloudStorage/GoogleDrive-dongjae.k.kim@gmail.com/내 드라이브/연구/efficient-coding-dist-rl/fitting_models.py:33: RuntimeWarning: divide by zero encountered in log\n",
      "  self.x_log = np.log(self.x)  # np.linspace(-5, 5, num=int(1e3))\n",
      "/Users/dongjaekim/Library/CloudStorage/GoogleDrive-dongjae.k.kim@gmail.com/내 드라이브/연구/efficient-coding-dist-rl/fitting_models.py:35: RuntimeWarning: divide by zero encountered in log\n",
      "  self.x_log_inf = np.log(self.x_inf)\n"
     ]
    }
   ],
   "source": [
    "from fitting_models import value_efficient_coding_moment, fitting_model_model\n",
    "\n",
    "N_neurons = 39\n",
    "R_t = 245.41\n",
    "ec_moment = value_efficient_coding_moment(\n",
    "    './', N_neurons=N_neurons, R_t=R_t, X_OPT_ALPH=xss[id][0], slope_scale = 5.07)"
   ]
  },
  {
   "cell_type": "code",
   "execution_count": 4,
   "id": "955cf04e",
   "metadata": {
    "ExecuteTime": {
     "start_time": "2023-05-07T16:27:40.908072Z",
     "end_time": "2023-05-07T16:27:41.572724Z"
    }
   },
   "outputs": [
    {
     "data": {
      "text/plain": "<IPython.core.display.Javascript object>",
      "application/javascript": "/* Put everything inside the global mpl namespace */\n/* global mpl */\nwindow.mpl = {};\n\nmpl.get_websocket_type = function () {\n    if (typeof WebSocket !== 'undefined') {\n        return WebSocket;\n    } else if (typeof MozWebSocket !== 'undefined') {\n        return MozWebSocket;\n    } else {\n        alert(\n            'Your browser does not have WebSocket support. ' +\n                'Please try Chrome, Safari or Firefox ≥ 6. ' +\n                'Firefox 4 and 5 are also supported but you ' +\n                'have to enable WebSockets in about:config.'\n        );\n    }\n};\n\nmpl.figure = function (figure_id, websocket, ondownload, parent_element) {\n    this.id = figure_id;\n\n    this.ws = websocket;\n\n    this.supports_binary = this.ws.binaryType !== undefined;\n\n    if (!this.supports_binary) {\n        var warnings = document.getElementById('mpl-warnings');\n        if (warnings) {\n            warnings.style.display = 'block';\n            warnings.textContent =\n                'This browser does not support binary websocket messages. ' +\n                'Performance may be slow.';\n        }\n    }\n\n    this.imageObj = new Image();\n\n    this.context = undefined;\n    this.message = undefined;\n    this.canvas = undefined;\n    this.rubberband_canvas = undefined;\n    this.rubberband_context = undefined;\n    this.format_dropdown = undefined;\n\n    this.image_mode = 'full';\n\n    this.root = document.createElement('div');\n    this.root.setAttribute('style', 'display: inline-block');\n    this._root_extra_style(this.root);\n\n    parent_element.appendChild(this.root);\n\n    this._init_header(this);\n    this._init_canvas(this);\n    this._init_toolbar(this);\n\n    var fig = this;\n\n    this.waiting = false;\n\n    this.ws.onopen = function () {\n        fig.send_message('supports_binary', { value: fig.supports_binary });\n        fig.send_message('send_image_mode', {});\n        if (fig.ratio !== 1) {\n            fig.send_message('set_device_pixel_ratio', {\n                device_pixel_ratio: fig.ratio,\n            });\n        }\n        fig.send_message('refresh', {});\n    };\n\n    this.imageObj.onload = function () {\n        if (fig.image_mode === 'full') {\n            // Full images could contain transparency (where diff images\n            // almost always do), so we need to clear the canvas so that\n            // there is no ghosting.\n            fig.context.clearRect(0, 0, fig.canvas.width, fig.canvas.height);\n        }\n        fig.context.drawImage(fig.imageObj, 0, 0);\n    };\n\n    this.imageObj.onunload = function () {\n        fig.ws.close();\n    };\n\n    this.ws.onmessage = this._make_on_message_function(this);\n\n    this.ondownload = ondownload;\n};\n\nmpl.figure.prototype._init_header = function () {\n    var titlebar = document.createElement('div');\n    titlebar.classList =\n        'ui-dialog-titlebar ui-widget-header ui-corner-all ui-helper-clearfix';\n    var titletext = document.createElement('div');\n    titletext.classList = 'ui-dialog-title';\n    titletext.setAttribute(\n        'style',\n        'width: 100%; text-align: center; padding: 3px;'\n    );\n    titlebar.appendChild(titletext);\n    this.root.appendChild(titlebar);\n    this.header = titletext;\n};\n\nmpl.figure.prototype._canvas_extra_style = function (_canvas_div) {};\n\nmpl.figure.prototype._root_extra_style = function (_canvas_div) {};\n\nmpl.figure.prototype._init_canvas = function () {\n    var fig = this;\n\n    var canvas_div = (this.canvas_div = document.createElement('div'));\n    canvas_div.setAttribute('tabindex', '0');\n    canvas_div.setAttribute(\n        'style',\n        'border: 1px solid #ddd;' +\n            'box-sizing: content-box;' +\n            'clear: both;' +\n            'min-height: 1px;' +\n            'min-width: 1px;' +\n            'outline: 0;' +\n            'overflow: hidden;' +\n            'position: relative;' +\n            'resize: both;' +\n            'z-index: 2;'\n    );\n\n    function on_keyboard_event_closure(name) {\n        return function (event) {\n            return fig.key_event(event, name);\n        };\n    }\n\n    canvas_div.addEventListener(\n        'keydown',\n        on_keyboard_event_closure('key_press')\n    );\n    canvas_div.addEventListener(\n        'keyup',\n        on_keyboard_event_closure('key_release')\n    );\n\n    this._canvas_extra_style(canvas_div);\n    this.root.appendChild(canvas_div);\n\n    var canvas = (this.canvas = document.createElement('canvas'));\n    canvas.classList.add('mpl-canvas');\n    canvas.setAttribute(\n        'style',\n        'box-sizing: content-box;' +\n            'pointer-events: none;' +\n            'position: relative;' +\n            'z-index: 0;'\n    );\n\n    this.context = canvas.getContext('2d');\n\n    var backingStore =\n        this.context.backingStorePixelRatio ||\n        this.context.webkitBackingStorePixelRatio ||\n        this.context.mozBackingStorePixelRatio ||\n        this.context.msBackingStorePixelRatio ||\n        this.context.oBackingStorePixelRatio ||\n        this.context.backingStorePixelRatio ||\n        1;\n\n    this.ratio = (window.devicePixelRatio || 1) / backingStore;\n\n    var rubberband_canvas = (this.rubberband_canvas = document.createElement(\n        'canvas'\n    ));\n    rubberband_canvas.setAttribute(\n        'style',\n        'box-sizing: content-box;' +\n            'left: 0;' +\n            'pointer-events: none;' +\n            'position: absolute;' +\n            'top: 0;' +\n            'z-index: 1;'\n    );\n\n    // Apply a ponyfill if ResizeObserver is not implemented by browser.\n    if (this.ResizeObserver === undefined) {\n        if (window.ResizeObserver !== undefined) {\n            this.ResizeObserver = window.ResizeObserver;\n        } else {\n            var obs = _JSXTOOLS_RESIZE_OBSERVER({});\n            this.ResizeObserver = obs.ResizeObserver;\n        }\n    }\n\n    this.resizeObserverInstance = new this.ResizeObserver(function (entries) {\n        var nentries = entries.length;\n        for (var i = 0; i < nentries; i++) {\n            var entry = entries[i];\n            var width, height;\n            if (entry.contentBoxSize) {\n                if (entry.contentBoxSize instanceof Array) {\n                    // Chrome 84 implements new version of spec.\n                    width = entry.contentBoxSize[0].inlineSize;\n                    height = entry.contentBoxSize[0].blockSize;\n                } else {\n                    // Firefox implements old version of spec.\n                    width = entry.contentBoxSize.inlineSize;\n                    height = entry.contentBoxSize.blockSize;\n                }\n            } else {\n                // Chrome <84 implements even older version of spec.\n                width = entry.contentRect.width;\n                height = entry.contentRect.height;\n            }\n\n            // Keep the size of the canvas and rubber band canvas in sync with\n            // the canvas container.\n            if (entry.devicePixelContentBoxSize) {\n                // Chrome 84 implements new version of spec.\n                canvas.setAttribute(\n                    'width',\n                    entry.devicePixelContentBoxSize[0].inlineSize\n                );\n                canvas.setAttribute(\n                    'height',\n                    entry.devicePixelContentBoxSize[0].blockSize\n                );\n            } else {\n                canvas.setAttribute('width', width * fig.ratio);\n                canvas.setAttribute('height', height * fig.ratio);\n            }\n            /* This rescales the canvas back to display pixels, so that it\n             * appears correct on HiDPI screens. */\n            canvas.style.width = width + 'px';\n            canvas.style.height = height + 'px';\n\n            rubberband_canvas.setAttribute('width', width);\n            rubberband_canvas.setAttribute('height', height);\n\n            // And update the size in Python. We ignore the initial 0/0 size\n            // that occurs as the element is placed into the DOM, which should\n            // otherwise not happen due to the minimum size styling.\n            if (fig.ws.readyState == 1 && width != 0 && height != 0) {\n                fig.request_resize(width, height);\n            }\n        }\n    });\n    this.resizeObserverInstance.observe(canvas_div);\n\n    function on_mouse_event_closure(name) {\n        /* User Agent sniffing is bad, but WebKit is busted:\n         * https://bugs.webkit.org/show_bug.cgi?id=144526\n         * https://bugs.webkit.org/show_bug.cgi?id=181818\n         * The worst that happens here is that they get an extra browser\n         * selection when dragging, if this check fails to catch them.\n         */\n        var UA = navigator.userAgent;\n        var isWebKit = /AppleWebKit/.test(UA) && !/Chrome/.test(UA);\n        if(isWebKit) {\n            return function (event) {\n                /* This prevents the web browser from automatically changing to\n                 * the text insertion cursor when the button is pressed. We\n                 * want to control all of the cursor setting manually through\n                 * the 'cursor' event from matplotlib */\n                event.preventDefault()\n                return fig.mouse_event(event, name);\n            };\n        } else {\n            return function (event) {\n                return fig.mouse_event(event, name);\n            };\n        }\n    }\n\n    canvas_div.addEventListener(\n        'mousedown',\n        on_mouse_event_closure('button_press')\n    );\n    canvas_div.addEventListener(\n        'mouseup',\n        on_mouse_event_closure('button_release')\n    );\n    canvas_div.addEventListener(\n        'dblclick',\n        on_mouse_event_closure('dblclick')\n    );\n    // Throttle sequential mouse events to 1 every 20ms.\n    canvas_div.addEventListener(\n        'mousemove',\n        on_mouse_event_closure('motion_notify')\n    );\n\n    canvas_div.addEventListener(\n        'mouseenter',\n        on_mouse_event_closure('figure_enter')\n    );\n    canvas_div.addEventListener(\n        'mouseleave',\n        on_mouse_event_closure('figure_leave')\n    );\n\n    canvas_div.addEventListener('wheel', function (event) {\n        if (event.deltaY < 0) {\n            event.step = 1;\n        } else {\n            event.step = -1;\n        }\n        on_mouse_event_closure('scroll')(event);\n    });\n\n    canvas_div.appendChild(canvas);\n    canvas_div.appendChild(rubberband_canvas);\n\n    this.rubberband_context = rubberband_canvas.getContext('2d');\n    this.rubberband_context.strokeStyle = '#000000';\n\n    this._resize_canvas = function (width, height, forward) {\n        if (forward) {\n            canvas_div.style.width = width + 'px';\n            canvas_div.style.height = height + 'px';\n        }\n    };\n\n    // Disable right mouse context menu.\n    canvas_div.addEventListener('contextmenu', function (_e) {\n        event.preventDefault();\n        return false;\n    });\n\n    function set_focus() {\n        canvas.focus();\n        canvas_div.focus();\n    }\n\n    window.setTimeout(set_focus, 100);\n};\n\nmpl.figure.prototype._init_toolbar = function () {\n    var fig = this;\n\n    var toolbar = document.createElement('div');\n    toolbar.classList = 'mpl-toolbar';\n    this.root.appendChild(toolbar);\n\n    function on_click_closure(name) {\n        return function (_event) {\n            return fig.toolbar_button_onclick(name);\n        };\n    }\n\n    function on_mouseover_closure(tooltip) {\n        return function (event) {\n            if (!event.currentTarget.disabled) {\n                return fig.toolbar_button_onmouseover(tooltip);\n            }\n        };\n    }\n\n    fig.buttons = {};\n    var buttonGroup = document.createElement('div');\n    buttonGroup.classList = 'mpl-button-group';\n    for (var toolbar_ind in mpl.toolbar_items) {\n        var name = mpl.toolbar_items[toolbar_ind][0];\n        var tooltip = mpl.toolbar_items[toolbar_ind][1];\n        var image = mpl.toolbar_items[toolbar_ind][2];\n        var method_name = mpl.toolbar_items[toolbar_ind][3];\n\n        if (!name) {\n            /* Instead of a spacer, we start a new button group. */\n            if (buttonGroup.hasChildNodes()) {\n                toolbar.appendChild(buttonGroup);\n            }\n            buttonGroup = document.createElement('div');\n            buttonGroup.classList = 'mpl-button-group';\n            continue;\n        }\n\n        var button = (fig.buttons[name] = document.createElement('button'));\n        button.classList = 'mpl-widget';\n        button.setAttribute('role', 'button');\n        button.setAttribute('aria-disabled', 'false');\n        button.addEventListener('click', on_click_closure(method_name));\n        button.addEventListener('mouseover', on_mouseover_closure(tooltip));\n\n        var icon_img = document.createElement('img');\n        icon_img.src = '_images/' + image + '.png';\n        icon_img.srcset = '_images/' + image + '_large.png 2x';\n        icon_img.alt = tooltip;\n        button.appendChild(icon_img);\n\n        buttonGroup.appendChild(button);\n    }\n\n    if (buttonGroup.hasChildNodes()) {\n        toolbar.appendChild(buttonGroup);\n    }\n\n    var fmt_picker = document.createElement('select');\n    fmt_picker.classList = 'mpl-widget';\n    toolbar.appendChild(fmt_picker);\n    this.format_dropdown = fmt_picker;\n\n    for (var ind in mpl.extensions) {\n        var fmt = mpl.extensions[ind];\n        var option = document.createElement('option');\n        option.selected = fmt === mpl.default_extension;\n        option.innerHTML = fmt;\n        fmt_picker.appendChild(option);\n    }\n\n    var status_bar = document.createElement('span');\n    status_bar.classList = 'mpl-message';\n    toolbar.appendChild(status_bar);\n    this.message = status_bar;\n};\n\nmpl.figure.prototype.request_resize = function (x_pixels, y_pixels) {\n    // Request matplotlib to resize the figure. Matplotlib will then trigger a resize in the client,\n    // which will in turn request a refresh of the image.\n    this.send_message('resize', { width: x_pixels, height: y_pixels });\n};\n\nmpl.figure.prototype.send_message = function (type, properties) {\n    properties['type'] = type;\n    properties['figure_id'] = this.id;\n    this.ws.send(JSON.stringify(properties));\n};\n\nmpl.figure.prototype.send_draw_message = function () {\n    if (!this.waiting) {\n        this.waiting = true;\n        this.ws.send(JSON.stringify({ type: 'draw', figure_id: this.id }));\n    }\n};\n\nmpl.figure.prototype.handle_save = function (fig, _msg) {\n    var format_dropdown = fig.format_dropdown;\n    var format = format_dropdown.options[format_dropdown.selectedIndex].value;\n    fig.ondownload(fig, format);\n};\n\nmpl.figure.prototype.handle_resize = function (fig, msg) {\n    var size = msg['size'];\n    if (size[0] !== fig.canvas.width || size[1] !== fig.canvas.height) {\n        fig._resize_canvas(size[0], size[1], msg['forward']);\n        fig.send_message('refresh', {});\n    }\n};\n\nmpl.figure.prototype.handle_rubberband = function (fig, msg) {\n    var x0 = msg['x0'] / fig.ratio;\n    var y0 = (fig.canvas.height - msg['y0']) / fig.ratio;\n    var x1 = msg['x1'] / fig.ratio;\n    var y1 = (fig.canvas.height - msg['y1']) / fig.ratio;\n    x0 = Math.floor(x0) + 0.5;\n    y0 = Math.floor(y0) + 0.5;\n    x1 = Math.floor(x1) + 0.5;\n    y1 = Math.floor(y1) + 0.5;\n    var min_x = Math.min(x0, x1);\n    var min_y = Math.min(y0, y1);\n    var width = Math.abs(x1 - x0);\n    var height = Math.abs(y1 - y0);\n\n    fig.rubberband_context.clearRect(\n        0,\n        0,\n        fig.canvas.width / fig.ratio,\n        fig.canvas.height / fig.ratio\n    );\n\n    fig.rubberband_context.strokeRect(min_x, min_y, width, height);\n};\n\nmpl.figure.prototype.handle_figure_label = function (fig, msg) {\n    // Updates the figure title.\n    fig.header.textContent = msg['label'];\n};\n\nmpl.figure.prototype.handle_cursor = function (fig, msg) {\n    fig.canvas_div.style.cursor = msg['cursor'];\n};\n\nmpl.figure.prototype.handle_message = function (fig, msg) {\n    fig.message.textContent = msg['message'];\n};\n\nmpl.figure.prototype.handle_draw = function (fig, _msg) {\n    // Request the server to send over a new figure.\n    fig.send_draw_message();\n};\n\nmpl.figure.prototype.handle_image_mode = function (fig, msg) {\n    fig.image_mode = msg['mode'];\n};\n\nmpl.figure.prototype.handle_history_buttons = function (fig, msg) {\n    for (var key in msg) {\n        if (!(key in fig.buttons)) {\n            continue;\n        }\n        fig.buttons[key].disabled = !msg[key];\n        fig.buttons[key].setAttribute('aria-disabled', !msg[key]);\n    }\n};\n\nmpl.figure.prototype.handle_navigate_mode = function (fig, msg) {\n    if (msg['mode'] === 'PAN') {\n        fig.buttons['Pan'].classList.add('active');\n        fig.buttons['Zoom'].classList.remove('active');\n    } else if (msg['mode'] === 'ZOOM') {\n        fig.buttons['Pan'].classList.remove('active');\n        fig.buttons['Zoom'].classList.add('active');\n    } else {\n        fig.buttons['Pan'].classList.remove('active');\n        fig.buttons['Zoom'].classList.remove('active');\n    }\n};\n\nmpl.figure.prototype.updated_canvas_event = function () {\n    // Called whenever the canvas gets updated.\n    this.send_message('ack', {});\n};\n\n// A function to construct a web socket function for onmessage handling.\n// Called in the figure constructor.\nmpl.figure.prototype._make_on_message_function = function (fig) {\n    return function socket_on_message(evt) {\n        if (evt.data instanceof Blob) {\n            var img = evt.data;\n            if (img.type !== 'image/png') {\n                /* FIXME: We get \"Resource interpreted as Image but\n                 * transferred with MIME type text/plain:\" errors on\n                 * Chrome.  But how to set the MIME type?  It doesn't seem\n                 * to be part of the websocket stream */\n                img.type = 'image/png';\n            }\n\n            /* Free the memory for the previous frames */\n            if (fig.imageObj.src) {\n                (window.URL || window.webkitURL).revokeObjectURL(\n                    fig.imageObj.src\n                );\n            }\n\n            fig.imageObj.src = (window.URL || window.webkitURL).createObjectURL(\n                img\n            );\n            fig.updated_canvas_event();\n            fig.waiting = false;\n            return;\n        } else if (\n            typeof evt.data === 'string' &&\n            evt.data.slice(0, 21) === 'data:image/png;base64'\n        ) {\n            fig.imageObj.src = evt.data;\n            fig.updated_canvas_event();\n            fig.waiting = false;\n            return;\n        }\n\n        var msg = JSON.parse(evt.data);\n        var msg_type = msg['type'];\n\n        // Call the  \"handle_{type}\" callback, which takes\n        // the figure and JSON message as its only arguments.\n        try {\n            var callback = fig['handle_' + msg_type];\n        } catch (e) {\n            console.log(\n                \"No handler for the '\" + msg_type + \"' message type: \",\n                msg\n            );\n            return;\n        }\n\n        if (callback) {\n            try {\n                // console.log(\"Handling '\" + msg_type + \"' message: \", msg);\n                callback(fig, msg);\n            } catch (e) {\n                console.log(\n                    \"Exception inside the 'handler_\" + msg_type + \"' callback:\",\n                    e,\n                    e.stack,\n                    msg\n                );\n            }\n        }\n    };\n};\n\nfunction getModifiers(event) {\n    var mods = [];\n    if (event.ctrlKey) {\n        mods.push('ctrl');\n    }\n    if (event.altKey) {\n        mods.push('alt');\n    }\n    if (event.shiftKey) {\n        mods.push('shift');\n    }\n    if (event.metaKey) {\n        mods.push('meta');\n    }\n    return mods;\n}\n\n/*\n * return a copy of an object with only non-object keys\n * we need this to avoid circular references\n * https://stackoverflow.com/a/24161582/3208463\n */\nfunction simpleKeys(original) {\n    return Object.keys(original).reduce(function (obj, key) {\n        if (typeof original[key] !== 'object') {\n            obj[key] = original[key];\n        }\n        return obj;\n    }, {});\n}\n\nmpl.figure.prototype.mouse_event = function (event, name) {\n    if (name === 'button_press') {\n        this.canvas.focus();\n        this.canvas_div.focus();\n    }\n\n    // from https://stackoverflow.com/q/1114465\n    var boundingRect = this.canvas.getBoundingClientRect();\n    var x = (event.clientX - boundingRect.left) * this.ratio;\n    var y = (event.clientY - boundingRect.top) * this.ratio;\n\n    this.send_message(name, {\n        x: x,\n        y: y,\n        button: event.button,\n        step: event.step,\n        modifiers: getModifiers(event),\n        guiEvent: simpleKeys(event),\n    });\n\n    return false;\n};\n\nmpl.figure.prototype._key_event_extra = function (_event, _name) {\n    // Handle any extra behaviour associated with a key event\n};\n\nmpl.figure.prototype.key_event = function (event, name) {\n    // Prevent repeat events\n    if (name === 'key_press') {\n        if (event.key === this._key) {\n            return;\n        } else {\n            this._key = event.key;\n        }\n    }\n    if (name === 'key_release') {\n        this._key = null;\n    }\n\n    var value = '';\n    if (event.ctrlKey && event.key !== 'Control') {\n        value += 'ctrl+';\n    }\n    else if (event.altKey && event.key !== 'Alt') {\n        value += 'alt+';\n    }\n    else if (event.shiftKey && event.key !== 'Shift') {\n        value += 'shift+';\n    }\n\n    value += 'k' + event.key;\n\n    this._key_event_extra(event, name);\n\n    this.send_message(name, { key: value, guiEvent: simpleKeys(event) });\n    return false;\n};\n\nmpl.figure.prototype.toolbar_button_onclick = function (name) {\n    if (name === 'download') {\n        this.handle_save(this, null);\n    } else {\n        this.send_message('toolbar_button', { name: name });\n    }\n};\n\nmpl.figure.prototype.toolbar_button_onmouseover = function (tooltip) {\n    this.message.textContent = tooltip;\n};\n\n///////////////// REMAINING CONTENT GENERATED BY embed_js.py /////////////////\n// prettier-ignore\nvar _JSXTOOLS_RESIZE_OBSERVER=function(A){var t,i=new WeakMap,n=new WeakMap,a=new WeakMap,r=new WeakMap,o=new Set;function s(e){if(!(this instanceof s))throw new TypeError(\"Constructor requires 'new' operator\");i.set(this,e)}function h(){throw new TypeError(\"Function is not a constructor\")}function c(e,t,i,n){e=0 in arguments?Number(arguments[0]):0,t=1 in arguments?Number(arguments[1]):0,i=2 in arguments?Number(arguments[2]):0,n=3 in arguments?Number(arguments[3]):0,this.right=(this.x=this.left=e)+(this.width=i),this.bottom=(this.y=this.top=t)+(this.height=n),Object.freeze(this)}function d(){t=requestAnimationFrame(d);var s=new WeakMap,p=new Set;o.forEach((function(t){r.get(t).forEach((function(i){var r=t instanceof window.SVGElement,o=a.get(t),d=r?0:parseFloat(o.paddingTop),f=r?0:parseFloat(o.paddingRight),l=r?0:parseFloat(o.paddingBottom),u=r?0:parseFloat(o.paddingLeft),g=r?0:parseFloat(o.borderTopWidth),m=r?0:parseFloat(o.borderRightWidth),w=r?0:parseFloat(o.borderBottomWidth),b=u+f,F=d+l,v=(r?0:parseFloat(o.borderLeftWidth))+m,W=g+w,y=r?0:t.offsetHeight-W-t.clientHeight,E=r?0:t.offsetWidth-v-t.clientWidth,R=b+v,z=F+W,M=r?t.width:parseFloat(o.width)-R-E,O=r?t.height:parseFloat(o.height)-z-y;if(n.has(t)){var k=n.get(t);if(k[0]===M&&k[1]===O)return}n.set(t,[M,O]);var S=Object.create(h.prototype);S.target=t,S.contentRect=new c(u,d,M,O),s.has(i)||(s.set(i,[]),p.add(i)),s.get(i).push(S)}))})),p.forEach((function(e){i.get(e).call(e,s.get(e),e)}))}return s.prototype.observe=function(i){if(i instanceof window.Element){r.has(i)||(r.set(i,new Set),o.add(i),a.set(i,window.getComputedStyle(i)));var n=r.get(i);n.has(this)||n.add(this),cancelAnimationFrame(t),t=requestAnimationFrame(d)}},s.prototype.unobserve=function(i){if(i instanceof window.Element&&r.has(i)){var n=r.get(i);n.has(this)&&(n.delete(this),n.size||(r.delete(i),o.delete(i))),n.size||r.delete(i),o.size||cancelAnimationFrame(t)}},A.DOMRectReadOnly=c,A.ResizeObserver=s,A.ResizeObserverEntry=h,A}; // eslint-disable-line\nmpl.toolbar_items = [[\"Home\", \"Reset original view\", \"fa fa-home\", \"home\"], [\"Back\", \"Back to previous view\", \"fa fa-arrow-left\", \"back\"], [\"Forward\", \"Forward to next view\", \"fa fa-arrow-right\", \"forward\"], [\"\", \"\", \"\", \"\"], [\"Pan\", \"Left button pans, Right button zooms\\nx/y fixes axis, CTRL fixes aspect\", \"fa fa-arrows\", \"pan\"], [\"Zoom\", \"Zoom to rectangle\\nx/y fixes axis\", \"fa fa-square-o\", \"zoom\"], [\"\", \"\", \"\", \"\"], [\"Download\", \"Download plot\", \"fa fa-floppy-o\", \"download\"]];\n\nmpl.extensions = [\"eps\", \"jpeg\", \"pgf\", \"pdf\", \"png\", \"ps\", \"raw\", \"svg\", \"tif\", \"webp\"];\n\nmpl.default_extension = \"png\";/* global mpl */\n\nvar comm_websocket_adapter = function (comm) {\n    // Create a \"websocket\"-like object which calls the given IPython comm\n    // object with the appropriate methods. Currently this is a non binary\n    // socket, so there is still some room for performance tuning.\n    var ws = {};\n\n    ws.binaryType = comm.kernel.ws.binaryType;\n    ws.readyState = comm.kernel.ws.readyState;\n    function updateReadyState(_event) {\n        if (comm.kernel.ws) {\n            ws.readyState = comm.kernel.ws.readyState;\n        } else {\n            ws.readyState = 3; // Closed state.\n        }\n    }\n    comm.kernel.ws.addEventListener('open', updateReadyState);\n    comm.kernel.ws.addEventListener('close', updateReadyState);\n    comm.kernel.ws.addEventListener('error', updateReadyState);\n\n    ws.close = function () {\n        comm.close();\n    };\n    ws.send = function (m) {\n        //console.log('sending', m);\n        comm.send(m);\n    };\n    // Register the callback with on_msg.\n    comm.on_msg(function (msg) {\n        //console.log('receiving', msg['content']['data'], msg);\n        var data = msg['content']['data'];\n        if (data['blob'] !== undefined) {\n            data = {\n                data: new Blob(msg['buffers'], { type: data['blob'] }),\n            };\n        }\n        // Pass the mpl event to the overridden (by mpl) onmessage function.\n        ws.onmessage(data);\n    });\n    return ws;\n};\n\nmpl.mpl_figure_comm = function (comm, msg) {\n    // This is the function which gets called when the mpl process\n    // starts-up an IPython Comm through the \"matplotlib\" channel.\n\n    var id = msg.content.data.id;\n    // Get hold of the div created by the display call when the Comm\n    // socket was opened in Python.\n    var element = document.getElementById(id);\n    var ws_proxy = comm_websocket_adapter(comm);\n\n    function ondownload(figure, _format) {\n        window.open(figure.canvas.toDataURL());\n    }\n\n    var fig = new mpl.figure(id, ws_proxy, ondownload, element);\n\n    // Call onopen now - mpl needs it, as it is assuming we've passed it a real\n    // web socket which is closed, not our websocket->open comm proxy.\n    ws_proxy.onopen();\n\n    fig.parent_element = element;\n    fig.cell_info = mpl.find_output_cell(\"<div id='\" + id + \"'></div>\");\n    if (!fig.cell_info) {\n        console.error('Failed to find cell for figure', id, fig);\n        return;\n    }\n    fig.cell_info[0].output_area.element.on(\n        'cleared',\n        { fig: fig },\n        fig._remove_fig_handler\n    );\n};\n\nmpl.figure.prototype.handle_close = function (fig, msg) {\n    var width = fig.canvas.width / fig.ratio;\n    fig.cell_info[0].output_area.element.off(\n        'cleared',\n        fig._remove_fig_handler\n    );\n    fig.resizeObserverInstance.unobserve(fig.canvas_div);\n\n    // Update the output cell to use the data from the current canvas.\n    fig.push_to_output();\n    var dataURL = fig.canvas.toDataURL();\n    // Re-enable the keyboard manager in IPython - without this line, in FF,\n    // the notebook keyboard shortcuts fail.\n    IPython.keyboard_manager.enable();\n    fig.parent_element.innerHTML =\n        '<img src=\"' + dataURL + '\" width=\"' + width + '\">';\n    fig.close_ws(fig, msg);\n};\n\nmpl.figure.prototype.close_ws = function (fig, msg) {\n    fig.send_message('closing', msg);\n    // fig.ws.close()\n};\n\nmpl.figure.prototype.push_to_output = function (_remove_interactive) {\n    // Turn the data on the canvas into data in the output cell.\n    var width = this.canvas.width / this.ratio;\n    var dataURL = this.canvas.toDataURL();\n    this.cell_info[1]['text/html'] =\n        '<img src=\"' + dataURL + '\" width=\"' + width + '\">';\n};\n\nmpl.figure.prototype.updated_canvas_event = function () {\n    // Tell IPython that the notebook contents must change.\n    IPython.notebook.set_dirty(true);\n    this.send_message('ack', {});\n    var fig = this;\n    // Wait a second, then push the new image to the DOM so\n    // that it is saved nicely (might be nice to debounce this).\n    setTimeout(function () {\n        fig.push_to_output();\n    }, 1000);\n};\n\nmpl.figure.prototype._init_toolbar = function () {\n    var fig = this;\n\n    var toolbar = document.createElement('div');\n    toolbar.classList = 'btn-toolbar';\n    this.root.appendChild(toolbar);\n\n    function on_click_closure(name) {\n        return function (_event) {\n            return fig.toolbar_button_onclick(name);\n        };\n    }\n\n    function on_mouseover_closure(tooltip) {\n        return function (event) {\n            if (!event.currentTarget.disabled) {\n                return fig.toolbar_button_onmouseover(tooltip);\n            }\n        };\n    }\n\n    fig.buttons = {};\n    var buttonGroup = document.createElement('div');\n    buttonGroup.classList = 'btn-group';\n    var button;\n    for (var toolbar_ind in mpl.toolbar_items) {\n        var name = mpl.toolbar_items[toolbar_ind][0];\n        var tooltip = mpl.toolbar_items[toolbar_ind][1];\n        var image = mpl.toolbar_items[toolbar_ind][2];\n        var method_name = mpl.toolbar_items[toolbar_ind][3];\n\n        if (!name) {\n            /* Instead of a spacer, we start a new button group. */\n            if (buttonGroup.hasChildNodes()) {\n                toolbar.appendChild(buttonGroup);\n            }\n            buttonGroup = document.createElement('div');\n            buttonGroup.classList = 'btn-group';\n            continue;\n        }\n\n        button = fig.buttons[name] = document.createElement('button');\n        button.classList = 'btn btn-default';\n        button.href = '#';\n        button.title = name;\n        button.innerHTML = '<i class=\"fa ' + image + ' fa-lg\"></i>';\n        button.addEventListener('click', on_click_closure(method_name));\n        button.addEventListener('mouseover', on_mouseover_closure(tooltip));\n        buttonGroup.appendChild(button);\n    }\n\n    if (buttonGroup.hasChildNodes()) {\n        toolbar.appendChild(buttonGroup);\n    }\n\n    // Add the status bar.\n    var status_bar = document.createElement('span');\n    status_bar.classList = 'mpl-message pull-right';\n    toolbar.appendChild(status_bar);\n    this.message = status_bar;\n\n    // Add the close button to the window.\n    var buttongrp = document.createElement('div');\n    buttongrp.classList = 'btn-group inline pull-right';\n    button = document.createElement('button');\n    button.classList = 'btn btn-mini btn-primary';\n    button.href = '#';\n    button.title = 'Stop Interaction';\n    button.innerHTML = '<i class=\"fa fa-power-off icon-remove icon-large\"></i>';\n    button.addEventListener('click', function (_evt) {\n        fig.handle_close(fig, {});\n    });\n    button.addEventListener(\n        'mouseover',\n        on_mouseover_closure('Stop Interaction')\n    );\n    buttongrp.appendChild(button);\n    var titlebar = this.root.querySelector('.ui-dialog-titlebar');\n    titlebar.insertBefore(buttongrp, titlebar.firstChild);\n};\n\nmpl.figure.prototype._remove_fig_handler = function (event) {\n    var fig = event.data.fig;\n    if (event.target !== this) {\n        // Ignore bubbled events from children.\n        return;\n    }\n    fig.close_ws(fig, {});\n};\n\nmpl.figure.prototype._root_extra_style = function (el) {\n    el.style.boxSizing = 'content-box'; // override notebook setting of border-box.\n};\n\nmpl.figure.prototype._canvas_extra_style = function (el) {\n    // this is important to make the div 'focusable\n    el.setAttribute('tabindex', 0);\n    // reach out to IPython and tell the keyboard manager to turn it's self\n    // off when our div gets focus\n\n    // location in version 3\n    if (IPython.notebook.keyboard_manager) {\n        IPython.notebook.keyboard_manager.register_events(el);\n    } else {\n        // location in version 2\n        IPython.keyboard_manager.register_events(el);\n    }\n};\n\nmpl.figure.prototype._key_event_extra = function (event, _name) {\n    // Check for shift+enter\n    if (event.shiftKey && event.which === 13) {\n        this.canvas_div.blur();\n        // select the cell after this one\n        var index = IPython.notebook.find_cell_index(this.cell_info[0]);\n        IPython.notebook.select(index + 1);\n    }\n};\n\nmpl.figure.prototype.handle_save = function (fig, _msg) {\n    fig.ondownload(fig, null);\n};\n\nmpl.find_output_cell = function (html_output) {\n    // Return the cell and output element which can be found *uniquely* in the notebook.\n    // Note - this is a bit hacky, but it is done because the \"notebook_saving.Notebook\"\n    // IPython event is triggered only after the cells have been serialised, which for\n    // our purposes (turning an active figure into a static one), is too late.\n    var cells = IPython.notebook.get_cells();\n    var ncells = cells.length;\n    for (var i = 0; i < ncells; i++) {\n        var cell = cells[i];\n        if (cell.cell_type === 'code') {\n            for (var j = 0; j < cell.output_area.outputs.length; j++) {\n                var data = cell.output_area.outputs[j];\n                if (data.data) {\n                    // IPython >= 3 moved mimebundle to data attribute of output\n                    data = data.data;\n                }\n                if (data['text/html'] === html_output) {\n                    return [cell, data, j];\n                }\n            }\n        }\n    }\n};\n\n// Register the function which deals with the matplotlib target/channel.\n// The kernel may be null if the page has been refreshed.\nif (IPython.notebook.kernel !== null) {\n    IPython.notebook.kernel.comm_manager.register_target(\n        'matplotlib',\n        mpl.mpl_figure_comm\n    );\n}\n"
     },
     "metadata": {},
     "output_type": "display_data"
    },
    {
     "data": {
      "text/plain": "<IPython.core.display.HTML object>",
      "text/html": "<div id='8895454b-2127-4277-8322-3cfa709ec836'></div>"
     },
     "metadata": {},
     "output_type": "display_data"
    },
    {
     "name": "stderr",
     "output_type": "stream",
     "text": [
      "/var/folders/8q/yjgzft41043gt_l8bqcfnzn40000gn/T/ipykernel_48877/962954358.py:31: RuntimeWarning: divide by zero encountered in log\n",
      "  xs = np.log(ec_moment.x[:8500])\n",
      "/var/folders/8q/yjgzft41043gt_l8bqcfnzn40000gn/T/ipykernel_48877/962954358.py:13: RuntimeWarning: divide by zero encountered in log\n",
      "  y_sample += (np.exp(-((np.log(x_sample) - mu_i) ** 2) / 2 / (sigma ** 2))\n",
      "/var/folders/8q/yjgzft41043gt_l8bqcfnzn40000gn/T/ipykernel_48877/962954358.py:13: RuntimeWarning: invalid value encountered in true_divide\n",
      "  y_sample += (np.exp(-((np.log(x_sample) - mu_i) ** 2) / 2 / (sigma ** 2))\n"
     ]
    }
   ],
   "source": [
    "import numpy as np\n",
    "import scipy.io as sio\n",
    "import matplotlib.pyplot as plt\n",
    "\n",
    "def log_kde(x, y, sigma, x_sample):\n",
    "    \"\"\" calculates a log-normal based kernel density estimate\n",
    "    based on samples at x with weights/probabilities y evaluated at x_sample\"\"\"\n",
    "    # mean = exp(mu + sigma^2/2) != mtrue\n",
    "    # -> mu = log(mtrue) - sigma^2/2\n",
    "    mu = np.log(x) - (sigma ** 2 / 2)\n",
    "    y_sample = np.zeros_like(x_sample)\n",
    "    for mu_i, y_i in zip(mu, y):\n",
    "        y_sample += (np.exp(-((np.log(x_sample) - mu_i) ** 2) / 2 / (sigma ** 2))\n",
    "                     / np.sqrt(2 * np.pi) / sigma / x_sample) * y_i\n",
    "    return y_sample\n",
    "\n",
    "data = sio.loadmat('./measured_neurons/curve_fit_parameters.mat')['ps'] \n",
    "# \"curve_fit_parameters.mat\" is the file that contains logistic fits of neurons\n",
    "# read './measured_neurons/CurveFit.ipynb' for more info\n",
    "midpoints = data[np.setdiff1d(np.linspace(0,39,40).astype(np.int16), 19),2]\n",
    "\n",
    "\n",
    "%matplotlib notebook \n",
    "from matplotlib.path import Path\n",
    "from matplotlib.patches import PathPatch\n",
    "fig,ax = plt.subplots(1,1)\n",
    "line2= ax.plot(ec_moment.x, ec_moment.d_x, color='k')\n",
    "\n",
    "plt.plot(ec_moment.x[:8500], ec_moment.p_prior[:8500], color='#999999')\n",
    "\n",
    "xs = np.log(ec_moment.x[:8500])\n",
    "ys = log_kde(midpoints, np.ones(39)/39, .7, ec_moment.x[:8500])\n",
    "\n",
    "plt.plot(ec_moment.x[:8500], ys,color='#9ebcda')\n",
    "ax.vlines(midpoints, 0, .012*np.ones(midpoints.shape),colors='#9ebcda')\n",
    "ax.spines['right'].set_visible(False)\n",
    "ax.spines['top'].set_visible(False)\n",
    "ax.set_xlim(0, 25)\n",
    "ax.set_ylim(0, .22)\n",
    "ax.set_xticks([0,10,20])\n",
    "fig.set_figwidth(6.2)\n",
    "fig.set_figheight(2)\n",
    "\n",
    "\n",
    "plt.savefig('./figures/midpoints.png',bbox_inches = 'tight')\n",
    "plt.savefig('./figures/midpoints.pdf',bbox_inches = 'tight')"
   ]
  },
  {
   "cell_type": "markdown",
   "id": "057f15e5",
   "metadata": {},
   "source": [
    "# Logistic fits\n",
    "\n",
    "As mentioned, \"curve_fit_parameters.mat\"  contains result of logistic fits of neurons.\n",
    "\n",
    "Read './measured_neurons/CurveFit.ipynb' for more info"
   ]
  },
  {
   "cell_type": "code",
   "execution_count": 5,
   "id": "3276e53e",
   "metadata": {
    "ExecuteTime": {
     "start_time": "2023-05-07T16:27:43.839281Z",
     "end_time": "2023-05-07T16:27:44.147512Z"
    }
   },
   "outputs": [
    {
     "name": "stderr",
     "output_type": "stream",
     "text": [
      "/Users/dongjaekim/Library/CloudStorage/GoogleDrive-dongjae.k.kim@gmail.com/내 드라이브/연구/efficient-coding-dist-rl/fitting_models.py:33: RuntimeWarning: divide by zero encountered in log\n",
      "  self.x_log = np.log(self.x)  # np.linspace(-5, 5, num=int(1e3))\n",
      "/Users/dongjaekim/Library/CloudStorage/GoogleDrive-dongjae.k.kim@gmail.com/내 드라이브/연구/efficient-coding-dist-rl/fitting_models.py:35: RuntimeWarning: divide by zero encountered in log\n",
      "  self.x_log_inf = np.log(self.x_inf)\n"
     ]
    }
   ],
   "source": [
    "# load sigmoid fit results\n",
    "# read './measured_neurons/CurveFit.ipynb' for more info\n",
    "import pickle as pkl\n",
    "import scipy.io as sio\n",
    "\n",
    "N_neurons = 39\n",
    "R_t = 245.41\n",
    "# `simpler=True`: simpler version of ec_moment\n",
    "# only used to caclulate r_max_CI efficiently\n",
    "ec = value_efficient_coding_moment(\n",
    "    './', N_neurons=N_neurons, R_t=R_t, X_OPT_ALPH=xss[id][0], slope_scale = 5.07, simpler=True)\n",
    "\n",
    "dir_measured_neurons = 'measured_neurons/'\n",
    "\n",
    "NDAT = sio.loadmat(dir_measured_neurons + 'data_max.mat')['dat']\n",
    "data = sio.loadmat(dir_measured_neurons + 'curve_fit_parameters.mat')\n",
    "\n",
    "indices = np.setdiff1d(np.linspace(0, 39, 40).astype(np.int16), 19) # except one neuron\n",
    "param_set = [data['ps_lcb'][indices], data['ps']\n",
    "             [indices], data['ps_ucb'][indices]]"
   ]
  },
  {
   "cell_type": "code",
   "execution_count": 6,
   "id": "df6ab77b",
   "metadata": {
    "ExecuteTime": {
     "start_time": "2023-05-07T16:27:44.992166Z",
     "end_time": "2023-05-07T16:27:45.173821Z"
    }
   },
   "outputs": [
    {
     "name": "stdout",
     "output_type": "stream",
     "text": [
      "245.40911987446552\n",
      "min 178.67799776800712, max 253.0370261317267\n"
     ]
    },
    {
     "name": "stderr",
     "output_type": "stream",
     "text": [
      "/var/folders/8q/yjgzft41043gt_l8bqcfnzn40000gn/T/ipykernel_48877/1488416813.py:5: RuntimeWarning: overflow encountered in exp\n",
      "  return b / (1 + np.exp(-(x - c) * a))\n"
     ]
    }
   ],
   "source": [
    "# verify r_max_hat = 245.51 and get r_max's confidence interval\n",
    "\n",
    "# curve\n",
    "def sigmoid_func(x, a, b, c):\n",
    "    return b / (1 + np.exp(-(x - c) * a))\n",
    "\n",
    "# calculate r_max_hat\n",
    "neurons_all_ = []\n",
    "for i in range(len(ec.neurons_)):\n",
    "    neurons_all_.append(sigmoid_func(\n",
    "        ec.x, *data['ps'][indices][i, :]))\n",
    "r_max_hat = np.sum([np.sum(np.array(neurons_all_[i]) * ec.p_prior * ec._x_gap)\n",
    "            for i in range(len(neurons_all_))])\n",
    "print(r_max_hat) # 245.41\n",
    "\n",
    "# calculate r_max's confidence interval\n",
    "neurons_all = []\n",
    "for j in range(data['ps_total'][indices].shape[1]):\n",
    "    neurons_all_ = []\n",
    "    for i in range(len(ec.neurons_)):\n",
    "        neurons_all_.append(sigmoid_func(\n",
    "            ec.x, *data['ps_total'][indices][i, j, :]))\n",
    "    neurons_all.append(neurons_all_)\n",
    "    \n",
    "r_max_CI  = [np.sum(np.array(neurons_all[i]) * ec.p_prior * ec._x_gap)\n",
    "            for i in range(len(neurons_all))]\n",
    "print('min {}, max {}'.format(min(r_max_CI),max(r_max_CI)))\n"
   ]
  },
  {
   "cell_type": "code",
   "execution_count": 7,
   "id": "b2a3a496",
   "metadata": {
    "ExecuteTime": {
     "start_time": "2023-05-07T16:27:45.985845Z",
     "end_time": "2023-05-07T16:27:52.760180Z"
    }
   },
   "outputs": [],
   "source": [
    "# bootstrapping confidence interval\n",
    "\n",
    "# curve\n",
    "def sigmoid_func(x, a, b, c):\n",
    "    return b / (1 + np.exp(-(x - c) * a))\n",
    "\n",
    "ps_bootstrap = sio.loadmat('./measured_neurons/curve_fit_bootstrap.mat')['ps']\n",
    "ps_bootstrap=ps_bootstrap[np.setdiff1d(np.linspace(0,39,40).astype(np.int16), 19),:,:]\n",
    "\n",
    "\n",
    "# calculate r_max's confidence interval\n",
    "neurons_all = []\n",
    "for j in range(ps_bootstrap.shape[1]):\n",
    "    neurons_all_ = []\n",
    "    for i in range(len(ec.neurons_)):\n",
    "        neurons_all_.append(sigmoid_func(\n",
    "            ec.x, *ps_bootstrap[i, j, :]))\n",
    "    neurons_all.append(np.sum(np.array(neurons_all_) * ec.p_prior * ec._x_gap))\n",
    "    \n",
    "# r_max_CI  = [np.sum(np.array(neurons_all[i]) * ec.p_prior * ec._x_gap)\n",
    "#             for i in range(len(neurons_all))]\n",
    "# print('min {}, max {}'.format(min(r_max_CI),max(r_max_CI)))\n",
    "\n"
   ]
  },
  {
   "cell_type": "code",
   "execution_count": 8,
   "id": "591558b7",
   "metadata": {
    "ExecuteTime": {
     "start_time": "2023-05-07T16:27:52.763990Z",
     "end_time": "2023-05-07T16:27:52.777884Z"
    }
   },
   "outputs": [
    {
     "data": {
      "text/plain": "238.1632129069556"
     },
     "execution_count": 8,
     "metadata": {},
     "output_type": "execute_result"
    }
   ],
   "source": [
    "min (neurons_all)\n"
   ]
  },
  {
   "cell_type": "code",
   "execution_count": 9,
   "id": "baa67827",
   "metadata": {
    "ExecuteTime": {
     "start_time": "2023-05-07T16:27:52.777959Z",
     "end_time": "2023-05-07T16:27:52.811332Z"
    }
   },
   "outputs": [
    {
     "name": "stdout",
     "output_type": "stream",
     "text": [
      "241.45831007503256\n",
      "249.3044773107344\n"
     ]
    }
   ],
   "source": [
    "print(np.percentile(neurons_all, 2.5))\n",
    "print(np.percentile(neurons_all, 97.5))\n",
    "r_max_CI = np.linspace(np.percentile(neurons_all, 5), np.percentile(neurons_all, 95), 100)"
   ]
  },
  {
   "cell_type": "code",
   "execution_count": 10,
   "id": "70c2d22d",
   "metadata": {
    "ExecuteTime": {
     "start_time": "2023-05-07T16:27:52.789842Z",
     "end_time": "2023-05-07T16:27:55.942786Z"
    }
   },
   "outputs": [],
   "source": [
    "# bootstrapping confidence interval\n",
    "\n",
    "# curve\n",
    "def sigmoid_func(x, a, b, c):\n",
    "    return b / (1 + np.exp(-(x - c) * a))\n",
    "\n",
    "ps_bootstrap = sio.loadmat('./measured_neurons/curve_fit_bootstrap.mat')['ps']\n",
    "ps_bootstrap=ps_bootstrap[np.setdiff1d(np.linspace(0,39,40).astype(np.int16), 19),:,:]\n",
    "\n",
    "\n",
    "# calculate r_max's confidence interval\n",
    "neurons_all = []\n",
    "for j in range(ps_bootstrap.shape[1]):\n",
    "    neurons_all_ = []\n",
    "    for i in range(len(ec.neurons_)):\n",
    "        neurons_all_.append(sigmoid_func(\n",
    "            ec.x, *ps_bootstrap[i, j, :]))\n",
    "    neurons_all.append(np.sum(np.array(neurons_all_) * ec.p_prior * ec._x_gap))\n",
    "    \n",
    "# r_max_CI  = [np.sum(np.array(neurons_all[i]) * ec.p_prior * ec._x_gap)\n",
    "#             for i in range(len(neurons_all))]\n",
    "# print('min {}, max {}'.format(min(r_max_CI),max(r_max_CI)))\n",
    "\n"
   ]
  },
  {
   "cell_type": "markdown",
   "id": "9973bf4d",
   "metadata": {},
   "source": [
    "# Threshold - Gain plot"
   ]
  },
  {
   "cell_type": "code",
   "execution_count": 11,
   "id": "4a450d9a",
   "metadata": {
    "ExecuteTime": {
     "start_time": "2023-05-07T16:27:55.942952Z",
     "end_time": "2023-05-07T16:27:55.947029Z"
    }
   },
   "outputs": [
    {
     "name": "stdout",
     "output_type": "stream",
     "text": [
      "242.1080365879301\n",
      "248.5636907083531\n"
     ]
    }
   ],
   "source": [
    "print(np.percentile(neurons_all, 5))\n",
    "print(np.percentile(neurons_all, 95))\n",
    "r_max_CI = np.linspace(np.percentile(neurons_all, 5), np.percentile(neurons_all, 95), 100)"
   ]
  },
  {
   "cell_type": "code",
   "execution_count": 12,
   "id": "99c8f7e4",
   "metadata": {
    "ExecuteTime": {
     "start_time": "2023-05-07T16:28:28.668045Z",
     "end_time": "2023-05-07T16:28:29.261041Z"
    },
    "scrolled": true
   },
   "outputs": [
    {
     "name": "stdout",
     "output_type": "stream",
     "text": [
      "7.123836782987522\n",
      "[0.22222222 8.        ]\n"
     ]
    }
   ],
   "source": [
    "# load the fitted ec parameter: r_max\n",
    "savedir = './res_fit_alpha_fit_test/'\n",
    "\n",
    "x_opt = []\n",
    "LSE = 99999\n",
    "model_name = ''\n",
    "LSE_s = []\n",
    "x_opt_s = []\n",
    "model_name_s = []\n",
    "\n",
    "for ii in range(1000):\n",
    "    try:\n",
    "        with open(savedir + 'res_fit_alpha_fit_test{0}.pkl'.format(ii), 'rb') as f:\n",
    "            data_1 = pkl.load(f)\n",
    "        for i in range(len(data_1['res_s'])):\n",
    "            LSE_s.append(data_1['res_s'][i]['fun'])\n",
    "            x_opt_s.append(data_1['res_s'][i]['x'])\n",
    "            if LSE > data_1['res_s'][i]['fun']:\n",
    "                LSE = data_1['res_s'][i]['fun']\n",
    "                x_opt = data_1['res_s'][i]['x']\n",
    "    except:\n",
    "        ''\n",
    "\n",
    "idxxx = np.argsort(LSE_s)\n",
    "xss = np.array(x_opt_s)\n",
    "id = np.argmin(LSE_s)\n",
    "\n",
    "print(LSE_s[id]) # loss\n",
    "print(xss[id]) # parameter fitted"
   ]
  },
  {
   "cell_type": "code",
   "execution_count": 13,
   "id": "18aa2982",
   "metadata": {
    "ExecuteTime": {
     "start_time": "2023-05-07T16:28:30.433971Z",
     "end_time": "2023-05-07T16:30:59.196245Z"
    }
   },
   "outputs": [
    {
     "name": "stderr",
     "output_type": "stream",
     "text": [
      "/Users/dongjaekim/opt/anaconda3/envs/efficient-coding-dist-rl/lib/python3.8/site-packages/scipy/optimize/_minpack_py.py:906: OptimizeWarning: Covariance of the parameters could not be estimated\n",
      "  warnings.warn('Covariance of the parameters could not be estimated',\n"
     ]
    }
   ],
   "source": [
    "# get rmax for every neurons... which is a constant value\n",
    "g_x_rstar = []\n",
    "for i in range(len(ec_moment.neurons_)):\n",
    "    g_x_rstar.append(xss[id][1])\n",
    "\n",
    "ec_moment = value_efficient_coding_moment(\n",
    "    './', N_neurons=N_neurons, R_t=R_t, X_OPT_ALPH=xss[id][0], slope_scale = 5.07, simpler=True)\n",
    "ec_moment.replace_with_pseudo() # use high-definition\n",
    "# get asymmatric slopes \n",
    "# increase num_samples to int(1e4) \n",
    "tf, quantiles_constant, thresholds_constant, alphas, xs, ys = ec_moment.plot_approximate_kinky_fromsim_fitting_only_raw_rstar(\n",
    "    ec_moment.neurons_, '.', r_star_param=g_x_rstar, num_samples=int(1e4))"
   ]
  },
  {
   "cell_type": "code",
   "execution_count": 14,
   "id": "6dac9902",
   "metadata": {
    "ExecuteTime": {
     "start_time": "2023-05-07T16:30:59.163452Z",
     "end_time": "2023-05-07T16:30:59.197857Z"
    }
   },
   "outputs": [],
   "source": [
    "# load details from Dabneys paper. refer to `./measured_neurons/dabney_matlab/`\n",
    "import scipy.io as sio\n",
    "fig5 = sio.loadmat(\"./measured_neurons/dabney_matlab/dabney_fit.mat\")\n",
    "fig5_betas = sio.loadmat(\"./measured_neurons/dabney_matlab/dabney_utility_fit.mat\")\n",
    "zero_crossings = fig5['zeroCrossings_all'][:, 0]\n",
    "scaleFactNeg_all = fig5['scaleFactNeg_all'][:, 0]\n",
    "scaleFactPos_all = fig5['scaleFactPos_all'][:, 0]\n",
    "asymM_all = fig5['asymM_all'][:, 0]\n",
    "ZC_true_label = fig5['utilityAxis'].squeeze()\n",
    "ZC_estimator = lambda x: fig5_betas[\"betas\"][0, 0] + fig5_betas[\"betas\"][1, 0] * x\n",
    "idx_to_maintain = np.where((scaleFactNeg_all * scaleFactPos_all) > 0)[0]\n",
    "asymM_all = asymM_all[idx_to_maintain]\n",
    "asymM_all_save = asymM_all.copy()\n",
    "idx_sorted = np.argsort(asymM_all)\n",
    "asymM_all = asymM_all[idx_sorted]\n",
    "estimated_ = np.array(ec_moment.get_quantiles_RPs(asymM_all))\n",
    "zero_crossings_ = fig5['zeroCrossings_all'][:, 0]\n",
    "zero_crossings_ = zero_crossings_[idx_to_maintain]\n",
    "zero_crossings_ = zero_crossings_[idx_sorted]\n",
    "zero_crossings_estimated = ZC_estimator(zero_crossings_) # estimated thresholds"
   ]
  },
  {
   "cell_type": "code",
   "execution_count": 19,
   "outputs": [],
   "source": [
    "\n",
    "dir_measured_neurons='measured_neurons/'\n",
    "NDAT = sio.loadmat(dir_measured_neurons + 'data_max.mat')['dat']\n",
    "zero_crossings_estimated = NDAT['ZC'][0, 0].squeeze()"
   ],
   "metadata": {
    "collapsed": false,
    "ExecuteTime": {
     "start_time": "2023-05-07T16:48:31.145949Z",
     "end_time": "2023-05-07T16:48:31.171227Z"
    }
   }
  },
  {
   "cell_type": "code",
   "execution_count": 20,
   "id": "6fa4f2f3",
   "metadata": {
    "ExecuteTime": {
     "start_time": "2023-05-07T16:48:31.948032Z",
     "end_time": "2023-05-07T16:49:29.863732Z"
    },
    "scrolled": true
   },
   "outputs": [
    {
     "name": "stderr",
     "output_type": "stream",
     "text": [
      "/Users/dongjaekim/Library/CloudStorage/GoogleDrive-dongjae.k.kim@gmail.com/내 드라이브/연구/efficient-coding-dist-rl/fitting_models.py:33: RuntimeWarning: divide by zero encountered in log\n",
      "  self.x_log = np.log(self.x)  # np.linspace(-5, 5, num=int(1e3))\n",
      "/Users/dongjaekim/Library/CloudStorage/GoogleDrive-dongjae.k.kim@gmail.com/내 드라이브/연구/efficient-coding-dist-rl/fitting_models.py:35: RuntimeWarning: divide by zero encountered in log\n",
      "  self.x_log_inf = np.log(self.x_inf)\n",
      "/var/folders/8q/yjgzft41043gt_l8bqcfnzn40000gn/T/ipykernel_48877/943334919.py:56: UserWarning: *c* argument looks like a single numeric RGB or RGBA sequence, which should be avoided as value-mapping will have precedence in case its length matches with *x* & *y*.  Please use the *color* keyword-argument or provide a 2D array with a single row if you intend to specify the same RGB or RGBA value for all points.\n",
      "  ax4.scatter(zero_crossings_estimated, param_set[1][:, 1][idx_sorted_], s=10, c=[0, 0, 0])\n"
     ]
    },
    {
     "data": {
      "text/plain": "<Figure size 450x450 with 1 Axes>",
      "image/png": "[encoded data removed]"
     },
     "metadata": {},
     "output_type": "display_data"
    }
   ],
   "source": [
    "# non linear fit + bootstrap\n",
    "%matplotlib inline\n",
    "fig4, ax4 = plt.subplots(1, 1)\n",
    "idx_sorted_ = np.argsort(asymM_all_save)\n",
    "# ax4.scatter(zero_crossings_estimated,  param_set[1][:, 1][idx_sorted_], s=10, color=[0,0,0])\n",
    "import scipy\n",
    "from scipy.optimize import curve_fit\n",
    "\n",
    "hires_x = np.linspace(0, 15, 1000)\n",
    "func = lambda x, a, b: a*(x) + b\n",
    "# best_fit_ab, covar = curve_fit(func, NDAT['ZC'][0,0].squeeze(), param_set[1][:,1],\n",
    "#                                absolute_sigma = True)\n",
    "best_fit_ab, covar = curve_fit(func, zero_crossings_estimated, param_set[1][:,1][idx_sorted_],\n",
    "                               absolute_sigma = True)\n",
    "\n",
    "\n",
    "num_sim = int(5e3)\n",
    "ps = []\n",
    "for i in range(num_sim):\n",
    "    i_sample = np.random.choice(np.linspace(0,len(zero_crossings_estimated)-1,len(zero_crossings_estimated),dtype=np.int16),len(zero_crossings_estimated))\n",
    "    while True:\n",
    "        try:\n",
    "            fit_ab, covar = curve_fit(func, zero_crossings_estimated[i_sample], param_set[1][:,1][idx_sorted_][i_sample],\n",
    "                                       absolute_sigma = True, p0=[1,1], maxfev=int(1e4))\n",
    "        except:\n",
    "            print('redo it with different random seed.')\n",
    "        break\n",
    "        \n",
    "    ps.append(fit_ab)\n",
    "    \n",
    "\n",
    "scipy.stats.pearsonr(zero_crossings_estimated, param_set[1][:,1][idx_sorted_])\n",
    "\n",
    "\n",
    "alpha_lin = np.linspace(.2, 1, len(r_max_CI))\n",
    "rp1data = []\n",
    "rp2data = []\n",
    "\n",
    "y_RRs = []\n",
    "for count, R in enumerate(np.sort(r_max_CI)):\n",
    "    ec = value_efficient_coding_moment(\n",
    "        './', N_neurons=N_neurons, R_t=R, X_OPT_ALPH=xss[id][0], slope_scale=5.07)\n",
    "    ec.replace_with_pseudo()\n",
    "    y_RRs.append(ec.g_x_pseudo)\n",
    "\n",
    "    \n",
    "y_RRs = np.asarray(y_RRs)\n",
    "lower = np.percentile(y_RRs, 5, axis=0)\n",
    "upper = np.percentile(y_RRs, 95, axis=0)\n",
    "ax4.fill_between(ec.x_inf, lower, upper,\n",
    "                 color = '#9ebcda', alpha = 1)    \n",
    "# ax4.plot(ec.x_inf, ec.g_x_pseudo, '-', linewidth=1,\n",
    "#              c='#9ebcda',alpha=1)\n",
    "\n",
    "ax4.set_xticks([.1, .3, 1.2, 2.5, 5, 10, 20])\n",
    "ax4.scatter(zero_crossings_estimated, param_set[1][:, 1][idx_sorted_], s=10, c=[0, 0, 0])\n",
    "ysample = np.asarray([func(hires_x, *pi) for pi in ps])\n",
    "lower = np.percentile(ysample, 5, axis=0)\n",
    "upper = np.percentile(ysample, 95, axis=0)\n",
    "\n",
    "ax4.plot(hires_x, func(hires_x, *best_fit_ab), 'black')\n",
    "ax4.fill_between(hires_x, lower, upper,\n",
    "                 color = 'black', alpha = 0.15)\n",
    "\n",
    "\n",
    "ax4.set_xlim(0, 12)\n",
    "ax4.set_ylim(0, 40)\n",
    "fig4.set_figwidth(4.5)\n",
    "fig4.set_figheight(4.5)\n",
    "ax4.spines['right'].set_visible(False)\n",
    "ax4.spines['top'].set_visible(False)\n",
    "\n",
    "\n",
    "ax4.set_xlim(0, 12)\n",
    "ax4.set_ylim(0, 40)\n",
    "fig4.savefig(\n",
    "    './figures/threshold-gain2-boot.png')\n",
    "fig4.savefig(\n",
    "    './figures/threshold-gain2-boot.pdf')\n",
    "# for illustration\n",
    "ax4.spines['left'].set_visible(False)\n",
    "ax4.spines['bottom'].set_visible(False)\n",
    "ax4.set_xticks([])\n",
    "ax4.set_yticks([])\n",
    "fig4.savefig(\n",
    "    './figures/threshold-gain2-boot3.pdf')\n",
    "fig4.savefig(\n",
    "    './figures/threshold-gain2-boot3.png')\n"
   ]
  },
  {
   "cell_type": "code",
   "execution_count": 16,
   "id": "6ae8b031",
   "metadata": {
    "ExecuteTime": {
     "start_time": "2023-05-07T16:32:11.601352Z",
     "end_time": "2023-05-07T16:32:11.740112Z"
    }
   },
   "outputs": [
    {
     "name": "stdout",
     "output_type": "stream",
     "text": [
      "241.45831007503256\n",
      "249.3044773107344\n"
     ]
    }
   ],
   "source": [
    "print(np.percentile(neurons_all, 2.5))\n",
    "print(np.percentile(neurons_all, 97.5))\n",
    "r_max_CI = np.linspace(np.percentile(neurons_all, 2.5), np.percentile(neurons_all, 97.5), 100)"
   ]
  },
  {
   "cell_type": "markdown",
   "id": "881f721e",
   "metadata": {},
   "source": [
    "# Threshold - Asymmetry plot"
   ]
  },
  {
   "cell_type": "code",
   "execution_count": 17,
   "id": "8e959e36",
   "metadata": {
    "ExecuteTime": {
     "start_time": "2023-05-07T16:43:35.129845Z",
     "end_time": "2023-05-07T16:46:13.973860Z"
    }
   },
   "outputs": [
    {
     "name": "stdout",
     "output_type": "stream",
     "text": [
      "[0.22222222 8.        ]\n"
     ]
    },
    {
     "name": "stderr",
     "output_type": "stream",
     "text": [
      "/Users/dongjaekim/Library/CloudStorage/GoogleDrive-dongjae.k.kim@gmail.com/내 드라이브/연구/efficient-coding-dist-rl/fitting_models.py:33: RuntimeWarning: divide by zero encountered in log\n",
      "  self.x_log = np.log(self.x)  # np.linspace(-5, 5, num=int(1e3))\n",
      "/Users/dongjaekim/Library/CloudStorage/GoogleDrive-dongjae.k.kim@gmail.com/내 드라이브/연구/efficient-coding-dist-rl/fitting_models.py:35: RuntimeWarning: divide by zero encountered in log\n",
      "  self.x_log_inf = np.log(self.x_inf)\n",
      "/Users/dongjaekim/opt/anaconda3/envs/efficient-coding-dist-rl/lib/python3.8/site-packages/scipy/optimize/_minpack_py.py:906: OptimizeWarning: Covariance of the parameters could not be estimated\n",
      "  warnings.warn('Covariance of the parameters could not be estimated',\n"
     ]
    }
   ],
   "source": [
    "# get rmax for every neurons... which is a constant value\n",
    "print(xss[id])\n",
    "g_x_rstar = []\n",
    "for i in range(len(ec_moment.neurons_)):\n",
    "    g_x_rstar.append(xss[id][1])\n",
    "\n",
    "ec_moment = value_efficient_coding_moment(\n",
    "    './', N_neurons=N_neurons, R_t=R_t, X_OPT_ALPH=xss[id][0], slope_scale=5.07, simpler=True)\n",
    "ec_moment.replace_with_pseudo()  # use high-definition\n",
    "# get asymmatric slopes\n",
    "# increase num_samples to int(1e4)\n",
    "tf, quantiles_constant, thresholds_constant, alphas, xs, ys = ec_moment.plot_approximate_kinky_fromsim_fitting_only_raw_rstar(\n",
    "    ec_moment.neurons_, '.', r_star_param=g_x_rstar, num_samples=int(1e4))"
   ]
  },
  {
   "cell_type": "code",
   "execution_count": 18,
   "id": "862daca3",
   "metadata": {
    "ExecuteTime": {
     "start_time": "2023-05-07T16:46:14.009551Z",
     "end_time": "2023-05-07T16:46:14.320359Z"
    }
   },
   "outputs": [
    {
     "data": {
      "text/plain": "<Figure size 450x450 with 1 Axes>",
      "image/png": "[encoded data removed]"
     },
     "metadata": {},
     "output_type": "display_data"
    }
   ],
   "source": [
    "\n",
    "fig, ax = plt.subplots(1,1)\n",
    "RPs = ec_moment.get_quantiles_RPs(quantiles_constant)\n",
    "\n",
    "ax.spines['right'].set_visible(False)\n",
    "ax.spines['top'].set_visible(False)\n",
    "ax.scatter(zero_crossings_estimated, asymM_all, s=10, color='k')\n",
    "ax.scatter(thresholds_constant, quantiles_constant, s=10, color='#9ebcda')\n",
    "ax.set_xticks([.1, .3, 1.2, 2.5, 5, 10, 20])\n",
    "ax.set_xlim([0, 12])\n",
    "ax.set_ylim([0, 1])\n",
    "plt.grid(False)\n",
    "fig.set_figwidth(4.5)\n",
    "fig.set_figheight(4.5)\n",
    "\n",
    "RPSS = ec_moment.get_quantiles_RPs(np.linspace(0,1,1000))\n",
    "# ax.plot(np.linspace(0,1,1000), RPSS, '--', color=[.7,.7,.7])\n",
    "ax.plot(RPSS,np.linspace(0,1,1000), '--', color=[.7,.7,.7])\n",
    "\n",
    "fig4.savefig(\n",
    "    './figures/threshold-asymm.png')\n",
    "plt.savefig(\n",
    "    './figures/threshold-asymm.pdf')"
   ]
  },
  {
   "cell_type": "markdown",
   "id": "7489741f",
   "metadata": {},
   "source": [
    "# slope vs density"
   ]
  },
  {
   "cell_type": "code",
   "execution_count": 18,
   "id": "fa9e5400",
   "metadata": {
    "ExecuteTime": {
     "start_time": "2023-05-01T20:45:18.851149Z",
     "end_time": "2023-05-01T20:45:18.864241Z"
    }
   },
   "outputs": [],
   "source": [
    "dir_measured_neurons = 'measured_neurons/'\n",
    "\n",
    "data = sio.loadmat(dir_measured_neurons + 'curve_fit_parameters.mat')\n"
   ]
  },
  {
   "cell_type": "code",
   "execution_count": 19,
   "id": "f3a50913",
   "metadata": {
    "ExecuteTime": {
     "start_time": "2023-05-01T20:45:18.858524Z",
     "end_time": "2023-05-01T20:45:19.478494Z"
    }
   },
   "outputs": [
    {
     "name": "stdout",
     "output_type": "stream",
     "text": [
      "245.9573228552075\n"
     ]
    },
    {
     "name": "stderr",
     "output_type": "stream",
     "text": [
      "/var/folders/8q/yjgzft41043gt_l8bqcfnzn40000gn/T/ipykernel_27879/4146988434.py:5: RuntimeWarning: overflow encountered in exp\n",
      "  return b / (1 + np.exp(-(x - c) * a))\n"
     ]
    },
    {
     "name": "stdout",
     "output_type": "stream",
     "text": [
      "min 179.4294320276579, max 253.51161173836374\n"
     ]
    }
   ],
   "source": [
    "# verify r_max_hat = 245.51 and get r_max's confidence interval\n",
    "\n",
    "# curve\n",
    "def sigmoid_func(x, a, b, c):\n",
    "    return b / (1 + np.exp(-(x - c) * a))\n",
    "\n",
    "indices = np.setdiff1d(np.linspace(0, 39, 40).astype(np.int16), 19) # except one neuron\n",
    "param_set = [data['ps_lcb'][indices], data['ps']\n",
    "             [indices], data['ps_ucb'][indices]]\n",
    "\n",
    "# calculate r_max_hat\n",
    "neurons_all_ = []\n",
    "for i in range(len(ec_moment.neurons_)):\n",
    "    neurons_all_.append(sigmoid_func(\n",
    "        ec_moment.x, *data['ps'][indices][i, :]))\n",
    "r_max_hat = np.sum([np.sum(np.array(neurons_all_[i]) * ec_moment.p_prior * ec_moment._x_gap)\n",
    "            for i in range(len(neurons_all_))])\n",
    "print(r_max_hat) # 245.41\n",
    "\n",
    "# calculate r_max's confidence interval\n",
    "neurons_all = []\n",
    "for j in range(data['ps_total'][indices].shape[1]):\n",
    "    neurons_all_ = []\n",
    "    for i in range(len(ec_moment.neurons_)):\n",
    "        neurons_all_.append(sigmoid_func(\n",
    "            ec_moment.x, *data['ps_total'][indices][i, j, :]))\n",
    "    neurons_all.append(neurons_all_)\n",
    "\n",
    "r_max_CI  = [np.sum(np.array(neurons_all[i]) * ec_moment.p_prior * ec_moment._x_gap)\n",
    "            for i in range(len(neurons_all))]\n",
    "print('min {}, max {}'.format(min(r_max_CI),max(r_max_CI)))"
   ]
  },
  {
   "cell_type": "code",
   "execution_count": 20,
   "id": "edefb001",
   "metadata": {
    "ExecuteTime": {
     "start_time": "2023-05-01T20:45:19.479076Z",
     "end_time": "2023-05-01T20:45:19.484071Z"
    }
   },
   "outputs": [
    {
     "name": "stdout",
     "output_type": "stream",
     "text": [
      "[0.88888889 7.        ]\n"
     ]
    }
   ],
   "source": [
    "# get first derivative of the sigmoid function\n",
    "def first_derivative_sigmoid_func(x, a, b, c):\n",
    "    return a*b*np.exp(-a*(x-c))/ (1 + np.exp(-a*(x-c)))**2\n",
    "\n",
    "print(xss[id]) # parameter fitted"
   ]
  },
  {
   "cell_type": "code",
   "execution_count": 21,
   "id": "553ef88a",
   "metadata": {
    "ExecuteTime": {
     "start_time": "2023-05-01T20:45:19.484242Z",
     "end_time": "2023-05-01T20:45:19.490002Z"
    }
   },
   "outputs": [
    {
     "name": "stdout",
     "output_type": "stream",
     "text": [
      "[8.310831083108312, 6.570657065706571, 6.240624062406241, 6.690669066906691, 4.71047104710471, 4.29042904290429, 0.39003900390039004, 4.26042604260426, 6.480648064806481, 5.9405940594059405, 6.0606060606060606, 5.1005100510051005, 5.2505250525052505, 9.3009300930093, 7.680768076807681, 5.7305730573057305, 5.5805580558055805, 6.600660066006601, 58.325832583258325, 1.8301830183018302, 13.111311131113112, 5.8805880588058805, 7.800780078007801, 47.284728472847284, 6.420642064206421, 12.061206120612061, 10.831083108310832, 9.000900090009, 12.241224122412241, 11.911191119111912, 13.261326132613261, 8.13081308130813, 3.0303030303030303, 7.410741074107411, 8.1008100810081, 7.800780078007801, 4.35043504350435, 39.78397839783978, 9.390939093909392]\n",
      "[1.1719259842845764, 1.510842531969211, 1.1482457451901447, 1.593473817363226, 1.677621387709231, 1.355093800424365, 1.011801849827517, 1.5898359411178138, 0.992146957387797, 1.6102301909617172, 1.0486284283547804, 1.0847742069618815, 0.9492968325423778, 0.8295618954019849, 0.9356571984095582, 1.0280791448379378, 1.0133456461531598, 1.3095769421744636, 1.7964173036044195e-09, 1.008988278286787, 0.4093520298749905, 1.2803524996009024, 1.1011953469422153, 0.41914098489282514, 0.7950478113690305, 0.43802054758453307, 0.5721901510658286, 0.6691789081927559, 0.6848882029567991, 0.524669318398403, 0.8645452109344643, 0.9849749271546996, 0.542595036351057, 1.3878135074875875, 1.4610366456253625, 1.205810400300157, 0.5636024349231594, 0.1562645049807967, 1.0289573751844714]\n"
     ]
    }
   ],
   "source": [
    "_slopes = []\n",
    "_thresholds = []\n",
    "for i in range(len(neurons_all_)):\n",
    "    idx = np.argmin(np.abs(neurons_all_[i] - xss[id][1]))\n",
    "    _thresholds.append(ec_moment.x[idx])\n",
    "    _slopes.append(first_derivative_sigmoid_func(ec_moment.x[idx],*data['ps'][indices][i, :]))\n",
    "print(_thresholds)\n",
    "print(_slopes)"
   ]
  },
  {
   "cell_type": "code",
   "execution_count": 22,
   "id": "eb630d96",
   "metadata": {
    "ExecuteTime": {
     "start_time": "2023-05-01T20:45:19.493325Z",
     "end_time": "2023-05-01T20:45:19.671781Z"
    }
   },
   "outputs": [],
   "source": [
    "def sigmoid_func(x, a, b, c):\n",
    "    return b / (1 + np.exp(-(x - c) * a))\n",
    "# fitting to sigmoid_func\n",
    "from scipy.optimize import curve_fit\n",
    "num_samples = int(100)\n",
    "# get ec_moment.x samples from ec_moment.p_prior\n",
    "idx_samples = np.random.choice(np.linspace(0,len(ec_moment.p_prior)-1, len(ec_moment.p_prior)), size=(num_samples), p=ec_moment.p_prior*ec_moment._x_gap).astype(np.int16)\n",
    "x_samples = ec_moment.x[idx_samples]\n",
    "\n",
    "np.random.seed(1000)\n",
    "\n",
    "neurons_sigfit = []\n",
    "neuorns_ps = []\n",
    "for i in range(len(ec_moment.neurons_)):\n",
    "    # one poisson sample from firing rate\n",
    "    neuron_samples = [np.random.poisson(ec_moment.neurons_[i][sample]) for sample in idx_samples]\n",
    "    popt, pcov = curve_fit(sigmoid_func,x_samples, neuron_samples, p0=[1, 1, 1], bounds=([0, 0, 0], [np.inf, np.inf, np.inf]))\n",
    "    neurons_sigfit.append(sigmoid_func(ec_moment.x, *popt))\n",
    "    neuorns_ps.append(popt)"
   ]
  },
  {
   "cell_type": "code",
   "execution_count": 23,
   "id": "6f0193a5",
   "metadata": {
    "ExecuteTime": {
     "start_time": "2023-05-01T20:45:19.673381Z",
     "end_time": "2023-05-01T20:45:19.676907Z"
    }
   },
   "outputs": [],
   "source": [
    "_thresholds_constant = []\n",
    "_slopes_constant = []\n",
    "for i in range(len(neurons_all_)):\n",
    "    _thresholds_constant.append(thresholds_constant[i])\n",
    "    idx = np.argmin(np.abs(ec_moment.x - thresholds_constant[i]))\n",
    "    _slopes_constant.append(first_derivative_sigmoid_func(ec_moment.x[idx],*neuorns_ps[i]))"
   ]
  },
  {
   "cell_type": "code",
   "execution_count": 24,
   "outputs": [],
   "source": [
    "\n",
    "import matplotlib as mpl\n",
    "mpl.style.use('default')\n",
    "plt.rcParams['font.family'] = 'Arial'\n",
    "plt.rcParams['font.size'] = 11\n"
   ],
   "metadata": {
    "collapsed": false,
    "ExecuteTime": {
     "start_time": "2023-05-01T20:45:19.679041Z",
     "end_time": "2023-05-01T20:45:19.681532Z"
    }
   }
  },
  {
   "cell_type": "code",
   "execution_count": 25,
   "id": "88b1d65f",
   "metadata": {
    "ExecuteTime": {
     "start_time": "2023-05-01T20:45:46.782720Z",
     "end_time": "2023-05-01T20:45:48.950311Z"
    }
   },
   "outputs": [
    {
     "name": "stdout",
     "output_type": "stream",
     "text": [
      "PearsonRResult(statistic=-0.6290617233653668, pvalue=1.792579072318402e-05)\n",
      "PearsonRResult(statistic=-0.38387594391496305, pvalue=0.015841455351941997)\n"
     ]
    },
    {
     "data": {
      "text/plain": "<Figure size 700x300 with 2 Axes>",
      "image/png": "[encoded data removed]"
     },
     "metadata": {},
     "output_type": "display_data"
    }
   ],
   "source": [
    "%matplotlib inline\n",
    "# scatter plot between _thresholds and _slopes\n",
    "fig, ax = plt.subplots(1,2)\n",
    "# plot fitted line for the scatter plot\n",
    "from scipy import stats\n",
    "\n",
    "# plot figure without grids\n",
    "\n",
    "# hires_x = np.linspace(0, 15, 1000)\n",
    "# func = lambda x, a, b: a*(x) + b\n",
    "# ysample = np.asarray([func(hires_x, *pi) for pi in ps])\n",
    "# lower = np.percentile(ysample, 5, axis=0)\n",
    "# upper = np.percentile(ysample, 95, axis=0)\n",
    "# ax4.fill_between(hires_x, lower, upper,\n",
    "#                  color = 'black', alpha = 0.15)\n",
    "\n",
    "func = lambda x, slope, intercept: slope*(x) + intercept\n",
    "num_sim = int(5e3)\n",
    "ps = []\n",
    "for i in range(num_sim):\n",
    "    i_sample = np.random.choice(np.linspace(0,len(zero_crossings_estimated)-1,len(zero_crossings_estimated),dtype=np.int16),len(zero_crossings_estimated))\n",
    "    while True:\n",
    "        try:\n",
    "            # fit the line for _thresholds and _slopes\n",
    "            slope, intercept, r_value, p_value, std_err = stats.linregress(np.array(_thresholds)[i_sample], np.array(_slopes)[i_sample])\n",
    "        except:\n",
    "            print('redo it with different random seed.')\n",
    "        break\n",
    "\n",
    "    ps.append([slope, intercept])\n",
    "\n",
    "slope, intercept, r_value, p_value, std_err = stats.linregress(_thresholds, _slopes)\n",
    "ax[0].plot([0, 12], [intercept, intercept + slope * 12], 'k', lw=2)\n",
    "# bow tie shaped shaded plot for the 90% confidence interval\n",
    "ysample = np.asarray([func(np.linspace(0,12,100), *pi) for pi in ps])\n",
    "lower = np.percentile(ysample, 5, axis=0)\n",
    "upper = np.percentile(ysample, 95, axis=0)\n",
    "ax[0].fill_between(np.linspace(0,12,100), lower, upper,\n",
    "                 color = 'black', alpha = 0.15)\n",
    "\n",
    "\n",
    "\n",
    "func = lambda x, slope, intercept: slope*(x) + intercept\n",
    "ps = []\n",
    "for i in range(num_sim):\n",
    "    i_sample = np.random.choice(np.linspace(0,len(zero_crossings_estimated)-1,len(zero_crossings_estimated),dtype=np.int16),len(zero_crossings_estimated))\n",
    "    while True:\n",
    "        try:\n",
    "            # fit the line for _thresholds and _slopes\n",
    "            slope, intercept, r_value, p_value, std_err = stats.linregress(np.array(_thresholds_constant)[i_sample], np.array(_slopes_constant)[i_sample])\n",
    "        except:\n",
    "            print('redo it with different random seed.')\n",
    "        break\n",
    "\n",
    "    ps.append([slope, intercept])\n",
    "slope, intercept, r_value, p_value, std_err = stats.linregress(_thresholds_constant, _slopes_constant)\n",
    "ax[1].plot([0, 12], [intercept, intercept + slope * 12], '#9ebcda', lw=2)\n",
    "ysample = np.asarray([func(np.linspace(0,12,100), *pi) for pi in ps])\n",
    "lower = np.percentile(ysample, 5, axis=0)\n",
    "upper = np.percentile(ysample, 95, axis=0)\n",
    "ax[1].fill_between(np.linspace(0,12,100), lower, upper,\n",
    "                 color = '#9ebcda', alpha = 0.15)\n",
    "\n",
    "\n",
    "\n",
    "ax[0].scatter(_thresholds, _slopes, s=10, color='k', alpha=0.4)\n",
    "ax[1].scatter(_thresholds_constant, _slopes_constant, s=10, color='#9ebcda', alpha=0.4)\n",
    "\n",
    "\n",
    "# plt.grid(True)\n",
    "fig.set_figwidth(7)\n",
    "fig.set_figheight(3)\n",
    "\n",
    "# ax.legend(['Measured neurons','Efficient code'])\n",
    "\n",
    "# correlation analysis for r and p\n",
    "from scipy.stats import pearsonr\n",
    "print(pearsonr(_thresholds, _slopes))\n",
    "print(pearsonr(_thresholds_constant, _slopes_constant))\n",
    "\n",
    "for i in range(2):\n",
    "    ax[i].set_xlabel('Threshold')\n",
    "    ax[i].set_ylabel('Slope')\n",
    "\n",
    "    ax[i].spines['right'].set_visible(False)\n",
    "    ax[i].spines['top'].set_visible(False)\n",
    "\n",
    "    ax[i].set_xlim([0, 12])\n",
    "    if i == 0:\n",
    "        ax[i].set_ylim([0, 2.1])\n",
    "        ax[i].set_yticks(np.linspace(0, 2, 5))\n",
    "    else:\n",
    "        ax[i].set_ylim([0, 4.2])\n",
    "        ax[i].set_yticks(np.linspace(0, 4, 5))\n",
    "\n",
    "\n",
    "\n",
    "fig.savefig(\n",
    "    './figures/threshold-slope_model_sbs_diffaxis.png')\n",
    "fig.savefig(\n",
    "    './figures/threshold-slope_model_sbs_diffaxis.pdf')\n",
    "plt.show()"
   ]
  },
  {
   "cell_type": "markdown",
   "id": "831eae5b",
   "metadata": {},
   "source": [
    "# plot half ot the gain and r-star\n"
   ]
  },
  {
   "cell_type": "code",
   "execution_count": 25,
   "id": "c46c2334",
   "metadata": {
    "ExecuteTime": {
     "start_time": "2023-05-01T20:19:14.465569Z",
     "end_time": "2023-05-01T20:19:14.471774Z"
    }
   },
   "outputs": [],
   "source": [
    "NDAT = sio.loadmat(dir_measured_neurons + 'data_max.mat')['dat']\n",
    "data = sio.loadmat(dir_measured_neurons + 'curve_fit_parameters.mat')"
   ]
  },
  {
   "cell_type": "code",
   "execution_count": 26,
   "id": "7d39b9c3",
   "metadata": {
    "ExecuteTime": {
     "start_time": "2023-05-01T20:19:14.472478Z",
     "end_time": "2023-05-01T20:19:14.474320Z"
    }
   },
   "outputs": [],
   "source": [
    "data = data['ps']\n",
    "half_gain_model = [ec_moment.gsn[i] / 2 for i in range(len(ec_moment.gsn))]\n"
   ]
  },
  {
   "cell_type": "code",
   "execution_count": 27,
   "id": "bf38fa22",
   "metadata": {
    "ExecuteTime": {
     "start_time": "2023-05-01T20:19:14.477268Z",
     "end_time": "2023-05-01T20:19:14.478393Z"
    }
   },
   "outputs": [],
   "source": [
    "# curve\n",
    "def sigmoid_func(x, a, b, c):\n",
    "    return b / (1 + np.exp(-(x - c) * a))\n",
    "\n",
    "# collect b from sigmoid _func\n",
    "bs = []\n",
    "for i in range(len(data)):\n",
    "    bs.append(data[i][1])\n",
    "\n",
    "# half of the gain\n",
    "half_gain = np.array(bs) / 2\n",
    "\n",
    "# remove the neuron that is not valid\n",
    "half_gain = np.delete(half_gain, 19)"
   ]
  },
  {
   "cell_type": "code",
   "execution_count": 28,
   "id": "267325ad",
   "metadata": {
    "ExecuteTime": {
     "start_time": "2023-05-01T20:19:14.491618Z",
     "end_time": "2023-05-01T20:19:14.931345Z"
    }
   },
   "outputs": [
    {
     "data": {
      "text/plain": "<Figure size 620x200 with 1 Axes>",
      "image/png": "[encoded data removed]"
     },
     "metadata": {},
     "output_type": "display_data"
    }
   ],
   "source": [
    "%matplotlib inline\n",
    "# plot small ticks of half gain\n",
    "fig, ax = plt.subplots(1, 1)\n",
    "\n",
    "# vlines plot of half gain\n",
    "ax.vlines(half_gain, 0, .01*np.ones(39), colors='k')\n",
    "ax.vlines(half_gain_model, 0, .01*np.ones(39), colors='#9ebcda')\n",
    "\n",
    "from scipy.stats import norm\n",
    "def normal_kde(x, y, sigma, x_sample):\n",
    "    \"\"\"calculates a normal based kernel density estimate\n",
    "    based on samples at x with weights/probabilities y evaluated at x_sample\"\"\"\n",
    "    y_sample = np.zeros_like(x_sample)\n",
    "    for x_i, y_i in zip(x, y):\n",
    "        y_sample += (norm.pdf((x_sample - x_i) / sigma) / sigma) * y_i\n",
    "    return y_sample\n",
    "\n",
    "# plot gaussian_kde of half gain\n",
    "ys = normal_kde(half_gain, np.ones(39)/39, 1.4, ec_moment.x[:8500])\n",
    "plt.plot(ec_moment.x[:8500], ys, color='k')\n",
    "\n",
    "# plot gaussian_kde of half_gain_model\n",
    "ys = normal_kde(half_gain_model, np.ones(39)/39, 1.4, ec_moment.x[:8500])\n",
    "plt.plot(ec_moment.x[:8500], ys, color='#9ebcda')\n",
    "\n",
    "\n",
    "# plot red vertical long line on 7.666667\n",
    "# ax.vlines(7.666667, 0, .2, colors='r')\n",
    "# and text that sais its $r^*$\n",
    "# ax.text(7.6, .16, '$r^*$', color='r')\n",
    "\n",
    "# small red arrow on the x axis that shows r^*\n",
    "ax.annotate(\n",
    "    '', xy=(7.0, 0), xytext=(7.0, -.04),\n",
    "    arrowprops=dict(facecolor='red', shrink=0.05))\n",
    "\n",
    "# text right below the arrow says its $r^*$\n",
    "ax.text(6, -.055, '$r^*=7$', color='r')\n",
    "\n",
    "# xticks and yticks and labels\n",
    "ax.set_xticks(np.linspace(0, 25, 6))\n",
    "ax.set_yticks(np.linspace(0, .2, 5))\n",
    "ax.set_xlabel('Response (Hz)')\n",
    "ax.set_ylabel('Density')\n",
    "\n",
    "# set x and y lim\n",
    "ax.set_xlim(0, 25)\n",
    "ax.set_ylim(0, .2)\n",
    "\n",
    "\n",
    "ax.spines['right'].set_visible(False)\n",
    "ax.spines['top'].set_visible(False)\n",
    "fig.set_figwidth(6.2)\n",
    "fig.set_figheight(2)\n",
    "# write title that says it is half gain of the neurons\n",
    "# plt.title('Half gain of the neurons')\n",
    "plt.savefig('./figures/half_gain.png', bbox_inches='tight')\n",
    "# pdf\n",
    "plt.savefig('./figures/half_gain.pdf', bbox_inches='tight')\n",
    "\n",
    "plt.show()\n"
   ]
  },
  {
   "cell_type": "markdown",
   "id": "e6a6fcaa",
   "metadata": {},
   "source": [
    "# thresholds & density\n"
   ]
  },
  {
   "cell_type": "code",
   "execution_count": 29,
   "id": "9f2b56d6",
   "metadata": {
    "ExecuteTime": {
     "start_time": "2023-05-01T20:19:14.928234Z",
     "end_time": "2023-05-01T20:19:14.931631Z"
    }
   },
   "outputs": [],
   "source": [
    "dir_measured_neurons = 'measured_neurons/'\n",
    "\n",
    "data = sio.loadmat(dir_measured_neurons + 'curve_fit_parameters.mat')\n"
   ]
  },
  {
   "cell_type": "code",
   "execution_count": 30,
   "id": "ee15ec14",
   "metadata": {
    "ExecuteTime": {
     "start_time": "2023-05-01T20:19:14.933577Z",
     "end_time": "2023-05-01T20:19:15.396632Z"
    }
   },
   "outputs": [
    {
     "name": "stdout",
     "output_type": "stream",
     "text": [
      "245.9573228552075\n"
     ]
    },
    {
     "name": "stderr",
     "output_type": "stream",
     "text": [
      "/var/folders/8q/yjgzft41043gt_l8bqcfnzn40000gn/T/ipykernel_26529/4146988434.py:5: RuntimeWarning: overflow encountered in exp\n",
      "  return b / (1 + np.exp(-(x - c) * a))\n"
     ]
    },
    {
     "name": "stdout",
     "output_type": "stream",
     "text": [
      "min 179.4294320276579, max 253.51161173836374\n"
     ]
    }
   ],
   "source": [
    "# verify r_max_hat = 245.51 and get r_max's confidence interval\n",
    "\n",
    "# curve\n",
    "def sigmoid_func(x, a, b, c):\n",
    "    return b / (1 + np.exp(-(x - c) * a))\n",
    "\n",
    "indices = np.setdiff1d(np.linspace(0, 39, 40).astype(np.int16), 19) # except one neuron\n",
    "param_set = [data['ps_lcb'][indices], data['ps']\n",
    "             [indices], data['ps_ucb'][indices]]\n",
    "\n",
    "# calculate r_max_hat\n",
    "neurons_all_ = []\n",
    "for i in range(len(ec_moment.neurons_)):\n",
    "    neurons_all_.append(sigmoid_func(\n",
    "        ec_moment.x, *data['ps'][indices][i, :]))\n",
    "r_max_hat = np.sum([np.sum(np.array(neurons_all_[i]) * ec_moment.p_prior * ec_moment._x_gap)\n",
    "            for i in range(len(neurons_all_))])\n",
    "print(r_max_hat) # 245.41\n",
    "\n",
    "# calculate r_max's confidence interval\n",
    "neurons_all = []\n",
    "for j in range(data['ps_total'][indices].shape[1]):\n",
    "    neurons_all_ = []\n",
    "    for i in range(len(ec_moment.neurons_)):\n",
    "        neurons_all_.append(sigmoid_func(\n",
    "            ec_moment.x, *data['ps_total'][indices][i, j, :]))\n",
    "    neurons_all.append(neurons_all_)\n",
    "\n",
    "r_max_CI  = [np.sum(np.array(neurons_all[i]) * ec_moment.p_prior * ec_moment._x_gap)\n",
    "            for i in range(len(neurons_all))]\n",
    "print('min {}, max {}'.format(min(r_max_CI),max(r_max_CI)))"
   ]
  },
  {
   "cell_type": "code",
   "execution_count": 31,
   "id": "d61241d5",
   "metadata": {
    "ExecuteTime": {
     "start_time": "2023-05-01T20:19:15.396505Z",
     "end_time": "2023-05-01T20:19:15.399340Z"
    }
   },
   "outputs": [
    {
     "name": "stdout",
     "output_type": "stream",
     "text": [
      "[0.88888889 7.        ]\n"
     ]
    }
   ],
   "source": [
    "# get first derivative of the sigmoid function\n",
    "def first_derivative_sigmoid_func(x, a, b, c):\n",
    "    return a*b*np.exp(-a*(x-c))/ (1 + np.exp(-a*(x-c)))**2\n",
    "\n",
    "print(xss[id]) # parameter fitted"
   ]
  },
  {
   "cell_type": "code",
   "execution_count": 32,
   "id": "a696baf9",
   "metadata": {
    "ExecuteTime": {
     "start_time": "2023-05-01T20:19:15.401363Z",
     "end_time": "2023-05-01T20:19:15.406287Z"
    }
   },
   "outputs": [
    {
     "name": "stdout",
     "output_type": "stream",
     "text": [
      "[8.310831083108312, 6.570657065706571, 6.240624062406241, 6.690669066906691, 4.71047104710471, 4.29042904290429, 0.39003900390039004, 4.26042604260426, 6.480648064806481, 5.9405940594059405, 6.0606060606060606, 5.1005100510051005, 5.2505250525052505, 9.3009300930093, 7.680768076807681, 5.7305730573057305, 5.5805580558055805, 6.600660066006601, 58.325832583258325, 1.8301830183018302, 13.111311131113112, 5.8805880588058805, 7.800780078007801, 47.284728472847284, 6.420642064206421, 12.061206120612061, 10.831083108310832, 9.000900090009, 12.241224122412241, 11.911191119111912, 13.261326132613261, 8.13081308130813, 3.0303030303030303, 7.410741074107411, 8.1008100810081, 7.800780078007801, 4.35043504350435, 39.78397839783978, 9.390939093909392]\n",
      "[1.1719259842845764, 1.510842531969211, 1.1482457451901447, 1.593473817363226, 1.677621387709231, 1.355093800424365, 1.011801849827517, 1.5898359411178138, 0.992146957387797, 1.6102301909617172, 1.0486284283547804, 1.0847742069618815, 0.9492968325423778, 0.8295618954019849, 0.9356571984095582, 1.0280791448379378, 1.0133456461531598, 1.3095769421744636, 1.7964173036044195e-09, 1.008988278286787, 0.4093520298749905, 1.2803524996009024, 1.1011953469422153, 0.41914098489282514, 0.7950478113690305, 0.43802054758453307, 0.5721901510658286, 0.6691789081927559, 0.6848882029567991, 0.524669318398403, 0.8645452109344643, 0.9849749271546996, 0.542595036351057, 1.3878135074875875, 1.4610366456253625, 1.205810400300157, 0.5636024349231594, 0.1562645049807967, 1.0289573751844714]\n"
     ]
    }
   ],
   "source": [
    "_slopes = []\n",
    "_thresholds = []\n",
    "for i in range(len(neurons_all_)):\n",
    "    idx = np.argmin(np.abs(neurons_all_[i] - xss[id][1]))\n",
    "    _thresholds.append(ec_moment.x[idx])\n",
    "    _slopes.append(first_derivative_sigmoid_func(ec_moment.x[idx],*data['ps'][indices][i, :]))\n",
    "print(_thresholds)\n",
    "print(_slopes)"
   ]
  },
  {
   "cell_type": "code",
   "execution_count": 33,
   "id": "bca5b66f",
   "metadata": {
    "ExecuteTime": {
     "start_time": "2023-05-01T20:19:15.409217Z",
     "end_time": "2023-05-01T20:19:15.582593Z"
    }
   },
   "outputs": [],
   "source": [
    "def sigmoid_func(x, a, b, c):\n",
    "    return b / (1 + np.exp(-(x - c) * a))\n",
    "# fitting to sigmoid_func\n",
    "from scipy.optimize import curve_fit\n",
    "num_samples = int(100)\n",
    "# get ec_moment.x samples from ec_moment.p_prior\n",
    "idx_samples = np.random.choice(np.linspace(0,len(ec_moment.p_prior)-1, len(ec_moment.p_prior)), size=(num_samples), p=ec_moment.p_prior*ec_moment._x_gap).astype(np.int16)\n",
    "x_samples = ec_moment.x[idx_samples]\n",
    "\n",
    "np.random.seed(1000)\n",
    "\n",
    "neurons_sigfit = []\n",
    "neuorns_ps = []\n",
    "for i in range(len(ec_moment.neurons_)):\n",
    "    # one poisson sample from firing rate\n",
    "    neuron_samples = [np.random.poisson(ec_moment.neurons_[i][sample]) for sample in idx_samples]\n",
    "    popt, pcov = curve_fit(sigmoid_func,x_samples, neuron_samples, p0=[1, 1, 1], bounds=([0, 0, 0], [np.inf, np.inf, np.inf]))\n",
    "    neurons_sigfit.append(sigmoid_func(ec_moment.x, *popt))\n",
    "    neuorns_ps.append(popt)"
   ]
  },
  {
   "cell_type": "code",
   "execution_count": 34,
   "id": "0ac42efd",
   "metadata": {
    "ExecuteTime": {
     "start_time": "2023-05-01T20:19:15.583860Z",
     "end_time": "2023-05-01T20:19:15.587268Z"
    }
   },
   "outputs": [],
   "source": [
    "_thresholds_constant = []\n",
    "_slopes_constant = []\n",
    "for i in range(len(neurons_all_)):\n",
    "    _thresholds_constant.append(thresholds_constant[i])\n",
    "    idx = np.argmin(np.abs(ec_moment.x - thresholds_constant[i]))\n",
    "    _slopes_constant.append(first_derivative_sigmoid_func(ec_moment.x[idx],*neuorns_ps[i]))"
   ]
  },
  {
   "cell_type": "code",
   "execution_count": 35,
   "id": "683bdc96",
   "metadata": {
    "ExecuteTime": {
     "start_time": "2023-05-01T20:19:15.588755Z",
     "end_time": "2023-05-01T20:19:15.591252Z"
    }
   },
   "outputs": [],
   "source": [
    "data = sio.loadmat('./measured_neurons/curve_fit_parameters.mat')['ps']\n",
    "# \"curve_fit_parameters.mat\" is the file that contains logistic fits of neurons\n",
    "# read './measured_neurons/CurveFit.ipynb' for more info\n",
    "midpoints = data[np.setdiff1d(np.linspace(0, 39, 40).astype(np.int16), 19), 2]"
   ]
  },
  {
   "cell_type": "code",
   "execution_count": 36,
   "id": "d16e8913",
   "metadata": {
    "ExecuteTime": {
     "start_time": "2023-05-01T20:19:15.593388Z",
     "end_time": "2023-05-01T20:19:15.597450Z"
    }
   },
   "outputs": [],
   "source": [
    "midpoints_models = []\n",
    "\n",
    "#find for each in ec_moment.neurons_ the index of the neuron that has the half of ec_moment.gsn\n",
    "for i in range(len(ec_moment.neurons_)):\n",
    "    # argmin\n",
    "    idx = np.argmin(np.abs(ec_moment.neurons_[i] - ec_moment.gsn[i] / 2))\n",
    "    # append ec_moment.x\n",
    "    midpoints_models.append(ec_moment.x[idx])\n",
    "midpoints_models = np.array(midpoints_models)"
   ]
  },
  {
   "cell_type": "code",
   "execution_count": 45,
   "outputs": [],
   "source": [
    "import matplotlib as mpl\n",
    "mpl.style.use('default')"
   ],
   "metadata": {
    "collapsed": false,
    "ExecuteTime": {
     "start_time": "2023-05-01T20:27:25.768679Z",
     "end_time": "2023-05-01T20:27:25.782267Z"
    }
   }
  },
  {
   "cell_type": "code",
   "execution_count": 51,
   "id": "fbab29f8",
   "metadata": {
    "ExecuteTime": {
     "start_time": "2023-05-01T20:28:56.115745Z",
     "end_time": "2023-05-01T20:28:56.512095Z"
    }
   },
   "outputs": [
    {
     "name": "stderr",
     "output_type": "stream",
     "text": [
      "/var/folders/8q/yjgzft41043gt_l8bqcfnzn40000gn/T/ipykernel_26529/3634329032.py:12: RuntimeWarning: divide by zero encountered in log\n",
      "  xs = np.log(ec_moment.x[:8500])\n",
      "/var/folders/8q/yjgzft41043gt_l8bqcfnzn40000gn/T/ipykernel_26529/962954358.py:13: RuntimeWarning: divide by zero encountered in log\n",
      "  y_sample += (np.exp(-((np.log(x_sample) - mu_i) ** 2) / 2 / (sigma ** 2))\n",
      "/var/folders/8q/yjgzft41043gt_l8bqcfnzn40000gn/T/ipykernel_26529/962954358.py:13: RuntimeWarning: invalid value encountered in true_divide\n",
      "  y_sample += (np.exp(-((np.log(x_sample) - mu_i) ** 2) / 2 / (sigma ** 2))\n",
      "/var/folders/8q/yjgzft41043gt_l8bqcfnzn40000gn/T/ipykernel_26529/3634329032.py:15: RuntimeWarning: divide by zero encountered in log\n",
      "  xs = np.log(ec_moment.x[:8500])\n",
      "/var/folders/8q/yjgzft41043gt_l8bqcfnzn40000gn/T/ipykernel_26529/3634329032.py:28: RuntimeWarning: divide by zero encountered in log\n",
      "  xs = np.log(ec_moment.x[:8500])\n",
      "/var/folders/8q/yjgzft41043gt_l8bqcfnzn40000gn/T/ipykernel_26529/3634329032.py:31: RuntimeWarning: divide by zero encountered in log\n",
      "  xs = np.log(ec_moment.x[:8500])\n"
     ]
    },
    {
     "data": {
      "text/plain": "<Figure size 620x200 with 2 Axes>",
      "image/png": "[encoded data removed]"
     },
     "metadata": {},
     "output_type": "display_data"
    }
   ],
   "source": [
    "%matplotlib inline\n",
    "import matplotlib as mpl\n",
    "mpl.style.use('default')\n",
    "plt.rcParams['font.family'] = 'Arial'\n",
    "plt.rcParams['font.size'] = 11\n",
    "\n",
    "fig, ax = plt.subplots(1, 2, sharey=True, gridspec_kw={'wspace': 0.15})\n",
    "ax[0].grid(False)\n",
    "ax[1].grid(False)\n",
    "\n",
    "sigma = .8\n",
    "\n",
    "\n",
    "xs = np.log(ec_moment.x[:8500])\n",
    "ys = log_kde(midpoints, np.ones(39)/39, sigma, ec_moment.x[:8500])\n",
    "ax[0].plot(ec_moment.x[:8500], ys, color='k')\n",
    "xs = np.log(ec_moment.x[:8500])\n",
    "ys = log_kde(midpoints_models, np.ones(39)/39, sigma, ec_moment.x[:8500])\n",
    "ax[0].plot(ec_moment.x[:8500], ys, color='#9ebcda')\n",
    "ax[0].set_xlim(0, 25)\n",
    "ax[0].set_ylim(0, .25)\n",
    "# set x ticks and y ticks\n",
    "ax[0].set_xticks([0, 5, 10, 15, 20, 25])\n",
    "ax[0].set_yticks([0, .05, .1, .15, .2, .25])\n",
    "\n",
    "ax[0].spines['right'].set_visible(False)\n",
    "ax[0].spines['top'].set_visible(False)\n",
    "\n",
    "\n",
    "xs = np.log(ec_moment.x[:8500])\n",
    "ys = log_kde(_thresholds, np.ones(39)/39,sigma, ec_moment.x[:8500])\n",
    "ax[1].plot(ec_moment.x[:8500], ys, color='k')\n",
    "xs = np.log(ec_moment.x[:8500])\n",
    "ys = log_kde(_thresholds_constant, np.ones(39)/39,sigma, ec_moment.x[:8500])\n",
    "ax[1].plot(ec_moment.x[:8500], ys, color='#9ebcda')\n",
    "ax[1].set_xlim(0, 25)\n",
    "ax[1].set_ylim(0, .25)\n",
    "ax[1].set_xticks([0, 5, 10, 15, 20, 25])\n",
    "ax[1].set_yticks([0, .05, .1, .15, .2, .25])\n",
    "\n",
    "ax[1].spines['right'].set_visible(False)\n",
    "ax[1].spines['top'].set_visible(False)\n",
    "# plt.plot(ec_moment.x[:8500], ys,color='#9ebcda')\n",
    "# ax.vlines(midpoints, 0, .012*np.ones(midpoints.shape),colors='#9ebcda')\n",
    "# ax.spines['right'].set_visible(False)\n",
    "# ax.spines['top'].set_visible(False)\n",
    "\n",
    "# proper size\n",
    "fig.set_figwidth(6.2)\n",
    "fig.set_figheight(2)\n",
    "# set x and y labels\n",
    "ax[0].set_xlabel('Reward (µL)')\n",
    "ax[0].set_ylabel('Density')\n",
    "ax[1].set_xlabel('Reward (µL)')\n",
    "ax[1].set_ylabel('Density')\n",
    "\n",
    "# set titles\n",
    "ax[0].set_title('Midpoints', fontsize=11)\n",
    "ax[1].set_title('Thresholds', fontsize=11)\n",
    "\n",
    "# figure legend\n",
    "ax[1].legend(['Measured neurons', 'Efficient code'], loc='upper right', frameon=True)\n",
    "\n",
    "\n",
    "plt.savefig('./figures/midpoints_thresholds.png', bbox_inches='tight')\n",
    "plt.savefig('./figures/midpoints_thresholds.pdf', bbox_inches='tight')\n",
    "plt.show()\n"
   ]
  },
  {
   "cell_type": "code",
   "execution_count": 87,
   "id": "5d9c9811",
   "metadata": {
    "ExecuteTime": {
     "start_time": "2023-04-26T00:01:31.352813Z",
     "end_time": "2023-04-26T00:01:31.355019Z"
    }
   },
   "outputs": [],
   "source": []
  }
 ],
 "metadata": {
  "kernelspec": {
   "display_name": "Python 3 (ipykernel)",
   "language": "python",
   "name": "python3"
  },
  "language_info": {
   "codemirror_mode": {
    "name": "ipython",
    "version": 3
   },
   "file_extension": ".py",
   "mimetype": "text/x-python",
   "name": "python",
   "nbconvert_exporter": "python",
   "pygments_lexer": "ipython3",
   "version": "3.8.16"
  },
  "toc": {
   "base_numbering": 1,
   "nav_menu": {},
   "number_sections": true,
   "sideBar": true,
   "skip_h1_title": false,
   "title_cell": "Table of Contents",
   "title_sidebar": "Contents",
   "toc_cell": true,
   "toc_position": {
    "height": "calc(100% - 180px)",
    "left": "10px",
    "top": "150px",
    "width": "165px"
   },
   "toc_section_display": true,
   "toc_window_display": true
  }
 },
 "nbformat": 4,
 "nbformat_minor": 5
}
