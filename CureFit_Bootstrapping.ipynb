{
 "cells": [
  {
   "cell_type": "code",
   "execution_count": 1,
   "id": "9a755387",
   "metadata": {
    "ExecuteTime": {
     "end_time": "2022-10-22T00:50:38.620941Z",
     "start_time": "2022-10-22T00:50:38.583060Z"
    }
   },
   "outputs": [],
   "source": [
    "# load\n",
    "import scipy.io as sio\n",
    "import numpy as np\n",
    "from scipy.optimize import curve_fit\n",
    "from scipy.stats.distributions import  t\n",
    "import matplotlib.pyplot as plt\n",
    "from fitting_models import fit_sigmoid\n",
    "import tqdm\n",
    "\n",
    "np.random.seed(2022)\n",
    "\n",
    "juiceAmounts = [0.1, 0.3, 1.2, 2.5, 5, 10, 20];\n",
    "dat = sio.loadmat('measured_neurons/dat_eachneuron.mat')\n",
    "dat = dat['dat']\n",
    "\n",
    "num_sim = int(5e3)\n",
    "initial_guess = [1, 1, 0]"
   ]
  },
  {
   "cell_type": "code",
   "execution_count": 2,
   "id": "1bab49c9",
   "metadata": {
    "ExecuteTime": {
     "end_time": "2022-10-22T23:29:35.674567Z",
     "start_time": "2022-10-22T00:50:39.499408Z"
    }
   },
   "outputs": [
    {
     "name": "stderr",
     "output_type": "stream",
     "text": [
      "100%|██████████████████████████████████████████████████████████████████████████████████████████████████████████████████████████████████████████████████████████████████████| 40/40 [05:43<00:00,  8.59s/it]\n"
     ]
    }
   ],
   "source": [
    "ps = np.zeros((40, num_sim, 3))\n",
    "for i in tqdm.trange(40):\n",
    "    dats = dat[0,i][0]\n",
    "    datas_x = []\n",
    "    datas_y = []\n",
    "\n",
    "    for count, j in enumerate(juiceAmounts):\n",
    "        y_to_extend = np.squeeze(dats[np.where(~np.isnan(dats[:,count])),count])\n",
    "        x_to_extend = (np.ones(y_to_extend.shape)*j).tolist()    \n",
    "        datas_x.extend(x_to_extend)\n",
    "        datas_y.extend(y_to_extend)\n",
    "\n",
    "    x = np.array(datas_x)\n",
    "    y = np.array(datas_y)\n",
    "    \n",
    "    for simi in range(num_sim):\n",
    "        i_sample = np.random.choice(np.linspace(0,len(x)-1,len(x),dtype=np.int16),len(x))\n",
    "        x_ = x[i_sample]\n",
    "        y_ = y[i_sample]\n",
    "\n",
    "        # pars, pcov = curve_fit(func, x_, y_, p0=initial_guess, bounds = (0,np.inf), maxfev = int(1e4))\n",
    "        pars, lik = fit_sigmoid(x_, y_, x_init=initial_guess)\n",
    "\n",
    "        ps[i,simi,:] = np.array(pars)\n",
    "        #print('neuron {} simulation {}'.format(i, simi))\n",
    "        "
   ]
  },
  {
   "cell_type": "code",
   "execution_count": 3,
   "id": "df45489c",
   "metadata": {
    "ExecuteTime": {
     "end_time": "2022-10-22T23:29:35.751217Z",
     "start_time": "2022-10-22T23:29:35.691785Z"
    }
   },
   "outputs": [],
   "source": [
    "sio.savemat('curve_fit_bootstrap.mat', {'ps':ps}) # post fix '_new' to prevent overwriting"
   ]
  },
  {
   "cell_type": "code",
   "execution_count": 5,
   "id": "11dd53fa",
   "metadata": {},
   "outputs": [
    {
     "name": "stderr",
     "output_type": "stream",
     "text": [
      "100%|██████████████████████████████████████████████████████████████████████████████████████████████████████████████████████████████████████████████████████████████████| 5000/5000 [05:59<00:00, 13.90it/s]\n"
     ]
    }
   ],
   "source": [
    "# sampling even the neurons 2020 10 25\n",
    "ps = np.zeros((40, num_sim, 3))\n",
    "for simi in tqdm.trange(num_sim):\n",
    "    n_sample = np.random.choice(np.linspace(0,39,dtype=np.int16),40) # neuron sample\n",
    "    for count_n,i in enumerate(n_sample):\n",
    "        dats = dat[0,i][0]\n",
    "        datas_x = []\n",
    "        datas_y = []\n",
    "\n",
    "        for count, j in enumerate(juiceAmounts):\n",
    "            y_to_extend = np.squeeze(dats[np.where(~np.isnan(dats[:,count])),count])\n",
    "            x_to_extend = (np.ones(y_to_extend.shape)*j).tolist()    \n",
    "            datas_x.extend(x_to_extend)\n",
    "            datas_y.extend(y_to_extend)\n",
    "\n",
    "        x = datas_x\n",
    "        y = datas_y\n",
    "\n",
    "\n",
    "        i_sample = np.random.choice(np.linspace(0,len(x)-1,len(x),dtype=np.int16),len(x))\n",
    "        x_ = np.array(x)[i_sample]\n",
    "        y_ = np.array(y)[i_sample]\n",
    "\n",
    "        pars, lik = fit_sigmoid(x_, y_, x_init=initial_guess)\n",
    "\n",
    "        ps[count_n,simi,:] = np.array(pars)\n",
    "        #print('neuron {} simulation {}'.format(count_n, simi))\n",
    "\n"
   ]
  },
  {
   "cell_type": "code",
   "execution_count": 6,
   "id": "45929df6",
   "metadata": {},
   "outputs": [],
   "source": [
    "sio.savemat('curve_fit_bootstrap_neurons.mat', {'ps':ps}) # post fix '_new' to prevent overwriting"
   ]
  },
  {
   "cell_type": "code",
   "execution_count": null,
   "id": "e2f70334",
   "metadata": {},
   "outputs": [],
   "source": []
  }
 ],
 "metadata": {
  "kernelspec": {
   "display_name": "Python 3 (ipykernel)",
   "language": "python",
   "name": "python3"
  },
  "language_info": {
   "codemirror_mode": {
    "name": "ipython",
    "version": 3
   },
   "file_extension": ".py",
   "mimetype": "text/x-python",
   "name": "python",
   "nbconvert_exporter": "python",
   "pygments_lexer": "ipython3",
   "version": "3.10.11"
  },
  "toc": {
   "base_numbering": 1,
   "nav_menu": {},
   "number_sections": true,
   "sideBar": true,
   "skip_h1_title": false,
   "title_cell": "Table of Contents",
   "title_sidebar": "Contents",
   "toc_cell": false,
   "toc_position": {},
   "toc_section_display": true,
   "toc_window_display": false
  }
 },
 "nbformat": 4,
 "nbformat_minor": 5
}
