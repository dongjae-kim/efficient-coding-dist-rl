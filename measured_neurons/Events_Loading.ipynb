{
 "cells": [
  {
   "cell_type": "markdown",
   "source": [
    "You can check the probabiltiy and the number of each event in the dataset as follows.\n"
   ],
   "metadata": {
    "collapsed": false
   }
  },
  {
   "cell_type": "code",
   "execution_count": 1,
   "outputs": [],
   "source": [
    "# load events_each_run.mat\n",
    "import scipy.io as sio\n",
    "import numpy as np\n",
    "import matplotlib.pyplot as plt\n",
    "from collections import Counter"
   ],
   "metadata": {
    "collapsed": false,
    "ExecuteTime": {
     "start_time": "2023-04-28T23:54:31.865778Z",
     "end_time": "2023-04-28T23:54:31.892171Z"
    }
   }
  },
  {
   "cell_type": "code",
   "execution_count": 2,
   "outputs": [],
   "source": [
    "events_each_run = sio.loadmat('events_each_run.mat')['events'].squeeze()"
   ],
   "metadata": {
    "collapsed": false,
    "ExecuteTime": {
     "start_time": "2023-04-28T23:54:31.892502Z",
     "end_time": "2023-04-28T23:54:31.896355Z"
    }
   }
  },
  {
   "cell_type": "code",
   "execution_count": 3,
   "metadata": {
    "ExecuteTime": {
     "start_time": "2023-04-28T23:54:31.899525Z",
     "end_time": "2023-04-28T23:54:31.902087Z"
    }
   },
   "outputs": [
    {
     "name": "stdout",
     "output_type": "stream",
     "text": [
      "30\n"
     ]
    }
   ],
   "source": [
    "# 1. when using unique recording\n",
    "events_each = []\n",
    "for event in events_each_run:\n",
    "    events_each.append(event.squeeze())\n",
    "print(len(events_each)) # how many unique recordings are used."
   ]
  },
  {
   "cell_type": "code",
   "execution_count": 4,
   "outputs": [
    {
     "name": "stdout",
     "output_type": "stream",
     "text": [
      "keys:  [0.1, 0.3, 1.2, 2.5, 5.0, 10.0, 20.0] \n",
      "values:  [0.06666667 0.10666667 0.16       0.15333333 0.3        0.14666667\n",
      " 0.06666667]\n",
      "==================\n",
      "keys:  [0.1, 0.3, 1.2, 2.5, 5.0, 10.0, 20.0] \n",
      "values:  [0.06790123 0.11728395 0.14197531 0.14197531 0.2962963  0.15432099\n",
      " 0.08024691]\n",
      "==================\n",
      "keys:  [0.1, 0.3, 1.2, 2.5, 5.0, 10.0, 20.0] \n",
      "values:  [0.07407407 0.11851852 0.12592593 0.14814815 0.31851852 0.14814815\n",
      " 0.06666667]\n",
      "==================\n",
      "keys:  [0.1, 0.3, 1.2, 2.5, 5.0, 10.0, 20.0] \n",
      "values:  [0.07575758 0.09090909 0.15151515 0.16161616 0.3030303  0.14646465\n",
      " 0.07070707]\n",
      "==================\n",
      "keys:  [0.1, 0.3, 1.2, 2.5, 5.0, 10.0, 20.0] \n",
      "values:  [0.06914894 0.11170213 0.16489362 0.14361702 0.30319149 0.14361702\n",
      " 0.06382979]\n",
      "==================\n",
      "keys:  [0.1, 0.3, 1.2, 2.5, 5.0, 10.0, 20.0] \n",
      "values:  [0.06735751 0.09326425 0.13989637 0.1761658  0.30569948 0.15544041\n",
      " 0.06217617]\n",
      "==================\n",
      "keys:  [0.1, 0.3, 1.2, 2.5, 5.0, 10.0, 20.0] \n",
      "values:  [0.08333333 0.08333333 0.14880952 0.14880952 0.30952381 0.14285714\n",
      " 0.08333333]\n",
      "==================\n",
      "keys:  [0.1, 0.3, 1.2, 2.5, 5.0, 10.0, 20.0] \n",
      "values:  [0.0657277  0.10328638 0.15962441 0.15023474 0.30516432 0.13615023\n",
      " 0.07981221]\n",
      "==================\n",
      "keys:  [0.1, 0.3, 1.2, 2.5, 5.0, 10.0, 20.0] \n",
      "values:  [0.07729469 0.10144928 0.15458937 0.15458937 0.28502415 0.14975845\n",
      " 0.07729469]\n",
      "==================\n",
      "keys:  [0.1, 0.3, 1.2, 2.5, 5.0, 10.0, 20.0] \n",
      "values:  [0.0802139  0.10160428 0.14438503 0.15508021 0.31550802 0.13903743\n",
      " 0.06417112]\n",
      "==================\n",
      "keys:  [0.1, 0.3, 1.2, 2.5, 5.0, 10.0, 20.0] \n",
      "values:  [0.068 0.108 0.152 0.164 0.296 0.14  0.072]\n",
      "==================\n",
      "keys:  [0.1, 0.3, 1.2, 2.5, 5.0, 10.0, 20.0] \n",
      "values:  [0.07239819 0.09502262 0.14932127 0.15384615 0.31221719 0.14027149\n",
      " 0.07692308]\n",
      "==================\n",
      "keys:  [0.1, 0.3, 1.2, 2.5, 5.0, 10.0, 20.0] \n",
      "values:  [0.05035971 0.0647482  0.17985612 0.15107914 0.31654676 0.15107914\n",
      " 0.08633094]\n",
      "==================\n",
      "keys:  [0.1, 0.3, 1.2, 2.5, 5.0, 10.0, 20.0] \n",
      "values:  [0.06097561 0.09756098 0.1402439  0.15243902 0.32926829 0.14634146\n",
      " 0.07317073]\n",
      "==================\n",
      "keys:  [0.1, 0.3, 1.2, 2.5, 5.0, 10.0, 20.0] \n",
      "values:  [0.04794521 0.10273973 0.10958904 0.1369863  0.28082192 0.17808219\n",
      " 0.14383562]\n",
      "==================\n",
      "keys:  [0.1, 0.3, 1.2, 2.5, 5.0, 10.0, 20.0] \n",
      "values:  [0.06315789 0.09122807 0.15789474 0.15438596 0.30877193 0.15087719\n",
      " 0.07368421]\n",
      "==================\n",
      "keys:  [0.1, 0.3, 1.2, 2.5, 5.0, 10.0, 20.0] \n",
      "values:  [0.05633803 0.08802817 0.14788732 0.14084507 0.30985915 0.19014085\n",
      " 0.06690141]\n",
      "==================\n",
      "keys:  [0.1, 0.3, 1.2, 2.5, 5.0, 10.0, 20.0] \n",
      "values:  [0.05536332 0.08650519 0.15916955 0.14186851 0.31141869 0.17301038\n",
      " 0.07266436]\n",
      "==================\n",
      "keys:  [0.1, 0.3, 1.2, 2.5, 5.0, 10.0, 20.0] \n",
      "values:  [0.06405694 0.08185053 0.13523132 0.20284698 0.29537367 0.14590747\n",
      " 0.0747331 ]\n",
      "==================\n",
      "keys:  [0.1, 0.3, 1.2, 2.5, 5.0, 10.0, 20.0] \n",
      "values:  [0.0569395  0.08185053 0.14946619 0.15302491 0.32740214 0.15302491\n",
      " 0.07829181]\n",
      "==================\n",
      "keys:  [0.1, 0.3, 1.2, 2.5, 5.0, 10.0, 20.0] \n",
      "values:  [0.04824561 0.0745614  0.1622807  0.15789474 0.3245614  0.15350877\n",
      " 0.07894737]\n",
      "==================\n",
      "keys:  [0.1, 0.3, 1.2, 2.5, 5.0, 10.0, 20.0] \n",
      "values:  [0.06930693 0.08910891 0.13531353 0.16171617 0.31683168 0.14851485\n",
      " 0.07920792]\n",
      "==================\n",
      "keys:  [0.1, 0.3, 1.2, 2.5, 5.0, 10.0, 20.0] \n",
      "values:  [0.08591065 0.08934708 0.13745704 0.13745704 0.32302405 0.14089347\n",
      " 0.08591065]\n",
      "==================\n",
      "keys:  [0.1, 0.3, 1.2, 2.5, 5.0, 10.0, 20.0] \n",
      "values:  [0.06462585 0.08163265 0.1462585  0.15986395 0.29931973 0.16326531\n",
      " 0.08503401]\n",
      "==================\n",
      "keys:  [0.1, 0.3, 1.2, 2.5, 5.0, 10.0, 20.0] \n",
      "values:  [0.04390244 0.06341463 0.12195122 0.15609756 0.35121951 0.1804878\n",
      " 0.08292683]\n",
      "==================\n",
      "keys:  [0.1, 0.3, 1.2, 2.5, 5.0, 10.0, 20.0] \n",
      "values:  [0.06756757 0.10135135 0.14189189 0.15540541 0.29054054 0.16891892\n",
      " 0.07432432]\n",
      "==================\n",
      "keys:  [0.1, 0.3, 1.2, 2.5, 5.0, 10.0, 20.0] \n",
      "values:  [0.06603774 0.08490566 0.15566038 0.14622642 0.3254717  0.13207547\n",
      " 0.08962264]\n",
      "==================\n",
      "keys:  [0.1, 0.3, 1.2, 2.5, 5.0, 10.0, 20.0] \n",
      "values:  [0.05586592 0.08379888 0.17318436 0.1396648  0.31284916 0.15642458\n",
      " 0.07821229]\n",
      "==================\n",
      "keys:  [0.1, 0.3, 1.2, 2.5, 5.0, 10.0, 20.0] \n",
      "values:  [0.07407407 0.07777778 0.16296296 0.14814815 0.30740741 0.15555556\n",
      " 0.07407407]\n",
      "==================\n",
      "keys:  [0.1, 0.3, 1.2, 2.5, 5.0, 10.0, 20.0] \n",
      "values:  [0.0530303  0.08333333 0.14772727 0.15530303 0.33333333 0.14393939\n",
      " 0.08333333]\n",
      "==================\n"
     ]
    }
   ],
   "source": [
    "# get event_count of each of event_each\n",
    "for event in events_each:\n",
    "    # remove nan in event first\n",
    "    event = np.array(event)\n",
    "    event = event[~np.isnan(event)]\n",
    "\n",
    "    event_count = Counter(event)\n",
    "    # get event_count.keys(), and sort them\n",
    "    keys = event_count.keys()\n",
    "    keys = sorted(keys)\n",
    "\n",
    "    values = []\n",
    "    for key in keys:\n",
    "        values.append(event_count[key])\n",
    "\n",
    "    # print in one line that\n",
    "    print(\"keys: \", keys, \"\\nvalues: \",np.array(values)/np.array(values).sum())\n",
    "\n",
    "    # print line that separate each event\n",
    "    print('==================')\n"
   ],
   "metadata": {
    "collapsed": false,
    "ExecuteTime": {
     "start_time": "2023-04-28T23:54:31.909109Z",
     "end_time": "2023-04-28T23:54:31.911616Z"
    }
   }
  },
  {
   "cell_type": "code",
   "execution_count": 5,
   "metadata": {
    "ExecuteTime": {
     "start_time": "2023-04-28T23:54:31.913077Z",
     "end_time": "2023-04-28T23:54:31.935777Z"
    }
   },
   "outputs": [
    {
     "name": "stdout",
     "output_type": "stream",
     "text": [
      "8496\n"
     ]
    }
   ],
   "source": [
    "# 2. using all at once\n",
    "events_all = []\n",
    "for event in events_each_run:\n",
    "    events_all.extend(event.squeeze().tolist())\n",
    "print(len(events_all))"
   ]
  },
  {
   "cell_type": "code",
   "execution_count": 6,
   "outputs": [
    {
     "name": "stdout",
     "output_type": "stream",
     "text": [
      "keys:  [0.1, 0.3, 1.2, 2.5, 5.0, 10.0, 20.0] \n",
      "values:  [0.06503443 0.09058914 0.14873757 0.15409334 0.31109411 0.15271614\n",
      " 0.07773527]\n"
     ]
    }
   ],
   "source": [
    "# get event_count of each of event_each\n",
    "events_all = np.array(events_all)\n",
    "# remove nan in event first\n",
    "events_all = events_all[~np.isnan(events_all)]\n",
    "event_count = Counter(events_all)\n",
    "# get event_count.keys(), and sort them\n",
    "keys = event_count.keys()\n",
    "keys = sorted(keys)\n",
    "values = []\n",
    "for key in keys:\n",
    "    values.append(event_count[key])\n",
    "\n",
    "# print in one line that\n",
    "print(\"keys: \", keys, \"\\nvalues: \",np.array(values)/np.array(values).sum())"
   ],
   "metadata": {
    "collapsed": false,
    "ExecuteTime": {
     "start_time": "2023-04-28T23:54:31.919059Z",
     "end_time": "2023-04-28T23:54:31.936005Z"
    }
   }
  }
 ],
 "metadata": {
  "kernelspec": {
   "display_name": "Python 3 (ipykernel)",
   "language": "python",
   "name": "python3"
  },
  "language_info": {
   "codemirror_mode": {
    "name": "ipython",
    "version": 3
   },
   "file_extension": ".py",
   "mimetype": "text/x-python",
   "name": "python",
   "nbconvert_exporter": "python",
   "pygments_lexer": "ipython3",
   "version": "3.8.16"
  },
  "toc": {
   "base_numbering": 1,
   "nav_menu": {},
   "number_sections": true,
   "sideBar": true,
   "skip_h1_title": false,
   "title_cell": "Table of Contents",
   "title_sidebar": "Contents",
   "toc_cell": false,
   "toc_position": {},
   "toc_section_display": true,
   "toc_window_display": false
  }
 },
 "nbformat": 4,
 "nbformat_minor": 1
}
