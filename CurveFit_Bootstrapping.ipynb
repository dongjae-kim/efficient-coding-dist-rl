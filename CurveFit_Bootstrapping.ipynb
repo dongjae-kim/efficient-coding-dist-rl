{
 "cells": [
  {
   "cell_type": "code",
   "execution_count": 1,
   "id": "9a755387",
   "metadata": {
    "ExecuteTime": {
     "end_time": "2022-10-22T00:50:38.620941Z",
     "start_time": "2022-10-22T00:50:38.583060Z"
    }
   },
   "outputs": [],
   "source": [
    "# load\n",
    "import scipy.io as sio\n",
    "import numpy as np\n",
    "from scipy.optimize import curve_fit\n",
    "from scipy.stats.distributions import  t\n",
    "import matplotlib.pyplot as plt\n",
    "from fit_sigmoids import fit_sigmoid, sigmoid_func_l\n",
    "import tqdm\n",
    "import os.path\n",
    "\n",
    "np.random.seed(2022)\n",
    "\n",
    "juiceAmounts = [0.1, 0.3, 1.2, 2.5, 5, 10, 20]\n",
    "dat = sio.loadmat('measured_neurons/dat_eachneuron_bc.mat')\n",
    "dat = dat['dat']\n",
    "\n",
    "num_sim = int(5e3)\n",
    "initial_guess = [1, 1, 0]\n",
    "remove_min = True\n",
    "\n",
    "# load thresholds\n",
    "NDAT = sio.loadmat(os.path.join(\"measured_neurons\", \"data_max.mat\"))[\"dat\"]\n",
    "true_thresh = NDAT[\"ZC\"][0, 0].squeeze()"
   ]
  },
  {
   "cell_type": "code",
   "execution_count": 34,
   "id": "cea10f7c",
   "metadata": {
    "ExecuteTime": {
     "start_time": "2023-08-17T20:09:12.466904Z",
     "end_time": "2023-08-17T20:09:12.635318Z"
    }
   },
   "outputs": [
    {
     "name": "stderr",
     "output_type": "stream",
     "text": [
      "100%|██████████| 40/40 [00:00<00:00, 258.14it/s]\n"
     ]
    }
   ],
   "source": [
    "ps = np.zeros((40, 3))\n",
    "for i in tqdm.trange(40):\n",
    "    dats = dat[0,i][0]\n",
    "    datas_x = []\n",
    "    datas_y = []\n",
    "\n",
    "    for count, j in enumerate(juiceAmounts):\n",
    "        y_to_extend = np.squeeze(dats[np.where(~np.isnan(dats[:,count])),count])\n",
    "        x_to_extend = (np.ones(y_to_extend.shape)*j).tolist()    \n",
    "        datas_x.extend(x_to_extend)\n",
    "        datas_y.extend(y_to_extend)\n",
    "\n",
    "    x = np.array(datas_x)\n",
    "    y = np.array(datas_y)\n",
    "    if remove_min:\n",
    "        y -= np.min(y)\n",
    "    pars, lik = fit_sigmoid(x, y, x_init=initial_guess)\n",
    "    ps[i,:] = np.array(pars)"
   ]
  },
  {
   "cell_type": "code",
   "execution_count": 35,
   "id": "10791aa6",
   "metadata": {
    "ExecuteTime": {
     "start_time": "2023-08-17T20:09:13.542835Z",
     "end_time": "2023-08-17T20:09:13.565365Z"
    }
   },
   "outputs": [],
   "source": [
    "if remove_min:\n",
    "    sio.savemat('curve_fit_parameters_min.mat', {'ps':ps}) # post fix '_new' to prevent overwriting\n",
    "else:\n",
    "    sio.savemat('curve_fit_parameters.mat', {'ps':ps})"
   ]
  },
  {
   "cell_type": "code",
   "execution_count": null,
   "id": "1bab49c9",
   "metadata": {
    "ExecuteTime": {
     "end_time": "2022-10-22T23:29:35.674567Z",
     "start_time": "2022-10-22T00:50:39.499408Z"
    },
    "pycharm": {
     "is_executing": true
    }
   },
   "outputs": [
    {
     "name": "stderr",
     "output_type": "stream",
     "text": [
      " 22%|██▎       | 9/40 [02:37<09:58, 19.30s/it]"
     ]
    }
   ],
   "source": [
    "ps = np.zeros((40, num_sim, 3))\n",
    "for i in tqdm.trange(40):\n",
    "    dats = dat[0,i][0]\n",
    "    datas_x = []\n",
    "    datas_y = []\n",
    "\n",
    "    for count, j in enumerate(juiceAmounts):\n",
    "        y_to_extend = np.squeeze(dats[np.where(~np.isnan(dats[:,count])),count])\n",
    "        x_to_extend = (np.ones(y_to_extend.shape)*j).tolist()    \n",
    "        datas_x.extend(x_to_extend)\n",
    "        datas_y.extend(y_to_extend)\n",
    "\n",
    "    x = np.array(datas_x)\n",
    "    y = np.array(datas_y)\n",
    "    if remove_min:\n",
    "        y -= np.min(y)\n",
    "    \n",
    "    for simi in range(num_sim):\n",
    "        i_sample = np.random.choice(np.linspace(0,len(x)-1,len(x),dtype=np.int16),len(x))\n",
    "        x_ = x[i_sample]\n",
    "        y_ = y[i_sample]\n",
    "\n",
    "        # pars, pcov = curve_fit(func, x_, y_, p0=initial_guess, bounds = (0,np.inf), maxfev = int(1e4))\n",
    "        pars, lik = fit_sigmoid(x_, y_, x_init=initial_guess)\n",
    "\n",
    "        ps[i,simi,:] = np.array(pars)\n",
    "        #print('neuron {} simulation {}'.format(i, simi))\n",
    "        "
   ]
  },
  {
   "cell_type": "code",
   "execution_count": null,
   "id": "df45489c",
   "metadata": {
    "ExecuteTime": {
     "end_time": "2022-10-22T23:29:35.751217Z",
     "start_time": "2022-10-22T23:29:35.691785Z"
    },
    "pycharm": {
     "is_executing": true
    }
   },
   "outputs": [],
   "source": [
    "if remove_min:\n",
    "    sio.savemat('curve_fit_bootstrap_min.mat', {'ps':ps}) # post fix '_new' to prevent overwriting\n",
    "else:\n",
    "    sio.savemat('curve_fit_bootstrap.mat', {'ps':ps})"
   ]
  },
  {
   "cell_type": "code",
   "execution_count": null,
   "id": "11dd53fa",
   "metadata": {
    "pycharm": {
     "is_executing": true
    }
   },
   "outputs": [],
   "source": [
    "# sampling even the neurons 2020 10 25\n",
    "ps = np.zeros((40, num_sim, 3))\n",
    "for simi in tqdm.trange(num_sim):\n",
    "    n_sample = np.random.choice(np.linspace(0,39,dtype=np.int16),40) # neuron sample\n",
    "    for count_n,i in enumerate(n_sample):\n",
    "        dats = dat[0,i][0]\n",
    "        datas_x = []\n",
    "        datas_y = []\n",
    "\n",
    "        for count, j in enumerate(juiceAmounts):\n",
    "            y_to_extend = np.squeeze(dats[np.where(~np.isnan(dats[:,count])),count])\n",
    "            x_to_extend = (np.ones(y_to_extend.shape)*j).tolist()    \n",
    "            datas_x.extend(x_to_extend)\n",
    "            datas_y.extend(y_to_extend)\n",
    "\n",
    "        x = datas_x\n",
    "        y = datas_y\n",
    "        if remove_min:\n",
    "            y -= np.min(y)\n",
    "\n",
    "\n",
    "        i_sample = np.random.choice(np.linspace(0,len(x)-1,len(x),dtype=np.int16),len(x))\n",
    "        x_ = np.array(x)[i_sample]\n",
    "        y_ = np.array(y)[i_sample]\n",
    "\n",
    "        pars, lik = fit_sigmoid(x_, y_, x_init=initial_guess)\n",
    "\n",
    "        ps[count_n,simi,:] = np.array(pars)\n",
    "        #print('neuron {} simulation {}'.format(count_n, simi))\n",
    "\n"
   ]
  },
  {
   "cell_type": "code",
   "execution_count": null,
   "id": "45929df6",
   "metadata": {
    "ExecuteTime": {
     "start_time": "2023-08-17T20:08:59.716537Z",
     "end_time": "2023-08-17T20:08:59.765974Z"
    },
    "pycharm": {
     "is_executing": true
    }
   },
   "outputs": [],
   "source": [
    "if remove_min:\n",
    "    sio.savemat('curve_fit_bootstrap_neurons_min.mat', {'ps':ps}) # post fix '_new' to prevent overwriting\n",
    "else:\n",
    "    sio.savemat('curve_fit_bootstrap_neurons.mat', {'ps':ps})"
   ]
  },
  {
   "cell_type": "code",
   "execution_count": null,
   "id": "15464a3a",
   "metadata": {
    "ExecuteTime": {
     "start_time": "2023-08-17T20:09:00.213026Z",
     "end_time": "2023-08-17T20:09:00.836634Z"
    },
    "pycharm": {
     "is_executing": true
    }
   },
   "outputs": [],
   "source": [
    "y = np.array([np.nanmean(dat[0,i][0], 0) for i in range(dat.shape[1])]).T\n",
    "plt.rc('text', usetex=True)\n",
    "plt.rcParams[\"axes.prop_cycle\"] = plt.cycler(\"color\", plt.cm.Blues(np.linspace(0,1,39)))\n",
    "plt.figure(figsize=(10,5))\n",
    "plt.subplot(1,2,1)\n",
    "ps = sio.loadmat('curve_fit_parameters.mat')['ps']\n",
    "idx_sort = np.argsort(ps[:,2])\n",
    "y_sorted = y[:,idx_sort]\n",
    "plt.plot(juiceAmounts, y_sorted)\n",
    "plt.ylabel(\"response [Hz]\")\n",
    "plt.xlabel(\"reward [$\\mu$l]\")\n",
    "plt.title(\"original data\")\n",
    "plt.subplot(1,2,2)\n",
    "ps = sio.loadmat('curve_fit_parameters_min.mat')['ps']\n",
    "idx_sort = np.argsort(ps[:,2])\n",
    "y_sorted = y[:,idx_sort]\n",
    "plt.plot(juiceAmounts, y_sorted-np.min(y_sorted, 0, keepdims=True))\n",
    "plt.xlabel(\"reward [$\\mu$l]\")\n",
    "plt.title(\"min removed data\")"
   ]
  },
  {
   "cell_type": "code",
   "execution_count": null,
   "id": "7b9ac944",
   "metadata": {
    "pycharm": {
     "is_executing": true
    }
   },
   "outputs": [],
   "source": [
    "plt.figure(figsize=(15,15))\n",
    "for i in range(ps.shape[0]):\n",
    "    dats = dat[0,i][0]\n",
    "    datas_x = []\n",
    "    datas_y = []\n",
    "\n",
    "    for count, j in enumerate(juiceAmounts):\n",
    "        y_to_extend = np.squeeze(dats[np.where(~np.isnan(dats[:,count])),count])\n",
    "        x_to_extend = (np.ones(y_to_extend.shape)*j).tolist()    \n",
    "        datas_x.extend(x_to_extend)\n",
    "        datas_y.extend(y_to_extend)\n",
    "\n",
    "    x = np.array(datas_x)\n",
    "    y = np.array(datas_y)\n",
    "    #y -= np.min(y)\n",
    "    pars, lik = fit_sigmoid(x, y, x_init=initial_guess)\n",
    "\n",
    "    plt.subplot(7,7,i+1)\n",
    "    plt.plot(x, y, 'k.')\n",
    "    plt.plot(x, np.exp(sigmoid_func_l(x, *pars)), 'k-', linewidth=2)"
   ]
  },
  {
   "cell_type": "code",
   "execution_count": null,
   "id": "a9f1dfcd",
   "metadata": {
    "pycharm": {
     "is_executing": true
    }
   },
   "outputs": [],
   "source": [
    "plt.figure(figsize=(10,5))\n",
    "for i, idx in enumerate([23, 30, 37]):\n",
    "    dats = dat[0,idx+1][0]\n",
    "    datas_x = []\n",
    "    datas_y = []\n",
    "\n",
    "    for count, j in enumerate(juiceAmounts):\n",
    "        y_to_extend = np.squeeze(dats[np.where(~np.isnan(dats[:,count])),count])\n",
    "        x_to_extend = (np.ones(y_to_extend.shape)*j).tolist()    \n",
    "        datas_x.extend(x_to_extend)\n",
    "        datas_y.extend(y_to_extend)\n",
    "\n",
    "    x = np.array(datas_x)\n",
    "    y = np.array(datas_y)\n",
    "    if remove_min:\n",
    "        y -= np.min(y)\n",
    "    pars, lik = fit_sigmoid(x, y, x_init=initial_guess)\n",
    "\n",
    "    plt.subplot(1,3,i+1)\n",
    "    plt.plot(x, y, 'k.')\n",
    "    plt.plot(x, np.exp(sigmoid_func_l(x, *pars)), 'k-', linewidth=2)"
   ]
  },
  {
   "cell_type": "code",
   "execution_count": null,
   "id": "5bd94ff5",
   "metadata": {
    "pycharm": {
     "is_executing": true
    }
   },
   "outputs": [],
   "source": [
    "dat_old = sio.loadmat('measured_neurons/curve_fit_bootstrap.mat')\n",
    "dat_pars = sio.loadmat('curve_fit_bootstrap.mat')"
   ]
  },
  {
   "cell_type": "code",
   "execution_count": null,
   "id": "61a7269a",
   "metadata": {
    "pycharm": {
     "is_executing": true
    }
   },
   "outputs": [],
   "source": [
    "plt.figure(figsize=(12,4))\n",
    "plt.subplot(1,3,1)\n",
    "plt.title('Slope')\n",
    "plt.plot(np.median(dat_old['ps'],1)[:,0], np.median(dat_pars['ps'],1)[:,0], 'k.')\n",
    "plt.ylim([0,1])\n",
    "plt.xlim([0,1])\n",
    "plt.plot([0,1],[0,1],'k--')\n",
    "plt.ylabel('Poisson Likelihood(new)')\n",
    "plt.xlabel('Least-square(old)')\n",
    "plt.subplot(1,3,2)\n",
    "plt.title('Gain')\n",
    "plt.plot(np.median(dat_old['ps'],1)[:,1], np.median(dat_pars['ps'],1)[:,1], 'k.')\n",
    "plt.xlabel('Least-square(old)')\n",
    "plt.plot([0,60],[0,60],'k--')\n",
    "plt.subplot(1,3,3)\n",
    "plt.title('Midpoint')\n",
    "plt.plot(np.median(dat_old['ps'],1)[:,2], np.median(dat_pars['ps'],1)[:,2], 'k.')\n",
    "plt.plot([0,30],[0,30],'k--')\n",
    "plt.xlabel('Least-square(old)')"
   ]
  },
  {
   "cell_type": "code",
   "execution_count": null,
   "outputs": [],
   "source": [],
   "metadata": {
    "collapsed": false
   }
  }
 ],
 "metadata": {
  "kernelspec": {
   "display_name": "Python 3 (ipykernel)",
   "language": "python",
   "name": "python3"
  },
  "language_info": {
   "codemirror_mode": {
    "name": "ipython",
    "version": 3
   },
   "file_extension": ".py",
   "mimetype": "text/x-python",
   "name": "python",
   "nbconvert_exporter": "python",
   "pygments_lexer": "ipython3",
   "version": "3.10.11"
  },
  "toc": {
   "base_numbering": 1,
   "nav_menu": {},
   "number_sections": true,
   "sideBar": true,
   "skip_h1_title": false,
   "title_cell": "Table of Contents",
   "title_sidebar": "Contents",
   "toc_cell": false,
   "toc_position": {},
   "toc_section_display": true,
   "toc_window_display": false
  }
 },
 "nbformat": 4,
 "nbformat_minor": 5
}
